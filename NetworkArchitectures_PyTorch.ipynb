{
  "nbformat": 4,
  "nbformat_minor": 0,
  "metadata": {
    "colab": {
      "name": "NetworkArchitectures_PyTorch.ipynb",
      "version": "0.3.2",
      "provenance": [],
      "collapsed_sections": [],
      "include_colab_link": true
    },
    "kernelspec": {
      "name": "python3",
      "display_name": "Python 3"
    }
  },
  "cells": [
    {
      "cell_type": "markdown",
      "metadata": {
        "id": "view-in-github",
        "colab_type": "text"
      },
      "source": [
        "<a href=\"https://colab.research.google.com/github/agerk/deepLearning/blob/master/NetworkArchitectures_PyTorch.ipynb\" target=\"_parent\"><img src=\"https://colab.research.google.com/assets/colab-badge.svg\" alt=\"Open In Colab\"/></a>"
      ]
    },
    {
      "metadata": {
        "id": "o7dmFIIES7mO",
        "colab_type": "text"
      },
      "cell_type": "markdown",
      "source": [
        "### Neural networks with PyTorch"
      ]
    },
    {
      "metadata": {
        "id": "bsOR0PLQTW5Q",
        "colab_type": "code",
        "colab": {
          "base_uri": "https://localhost:8080/",
          "height": 326
        },
        "outputId": "7491c90c-12f6-4bad-9087-8ad1b197b1fc"
      },
      "cell_type": "code",
      "source": [
        "!pip install --upgrade torch torchvision; "
      ],
      "execution_count": 3,
      "outputs": [
        {
          "output_type": "stream",
          "text": [
            "Collecting torch\n",
            "\u001b[?25l  Downloading https://files.pythonhosted.org/packages/49/0e/e382bcf1a6ae8225f50b99cc26effa2d4cc6d66975ccf3fa9590efcbedce/torch-0.4.1-cp36-cp36m-manylinux1_x86_64.whl (519.5MB)\n",
            "\u001b[K    100% |████████████████████████████████| 519.5MB 25kB/s \n",
            "tcmalloc: large alloc 1073750016 bytes == 0x58e3a000 @  0x7f71551392a4 0x591a07 0x5b5d56 0x502e9a 0x506859 0x502209 0x502f3d 0x506859 0x504c28 0x502540 0x502f3d 0x506859 0x504c28 0x502540 0x502f3d 0x506859 0x504c28 0x502540 0x502f3d 0x507641 0x502209 0x502f3d 0x506859 0x504c28 0x502540 0x502f3d 0x507641 0x504c28 0x502540 0x502f3d 0x507641\n",
            "\u001b[?25hCollecting torchvision\n",
            "\u001b[?25l  Downloading https://files.pythonhosted.org/packages/ca/0d/f00b2885711e08bd71242ebe7b96561e6f6d01fdb4b9dcf4d37e2e13c5e1/torchvision-0.2.1-py2.py3-none-any.whl (54kB)\n",
            "\u001b[K    100% |████████████████████████████████| 61kB 21.8MB/s \n",
            "\u001b[?25hRequirement already satisfied, skipping upgrade: six in /usr/local/lib/python3.6/dist-packages (from torchvision) (1.11.0)\n",
            "Collecting pillow>=4.1.1 (from torchvision)\n",
            "\u001b[?25l  Downloading https://files.pythonhosted.org/packages/62/94/5430ebaa83f91cc7a9f687ff5238e26164a779cca2ef9903232268b0a318/Pillow-5.3.0-cp36-cp36m-manylinux1_x86_64.whl (2.0MB)\n",
            "\u001b[K    100% |████████████████████████████████| 2.0MB 4.4MB/s \n",
            "\u001b[?25hRequirement already satisfied, skipping upgrade: numpy in /usr/local/lib/python3.6/dist-packages (from torchvision) (1.14.6)\n",
            "Installing collected packages: torch, pillow, torchvision\n",
            "  Found existing installation: Pillow 4.0.0\n",
            "    Uninstalling Pillow-4.0.0:\n",
            "      Successfully uninstalled Pillow-4.0.0\n",
            "Successfully installed pillow-5.3.0 torch-0.4.1 torchvision-0.2.1\n"
          ],
          "name": "stdout"
        }
      ]
    },
    {
      "metadata": {
        "id": "1h7l4b1jSkZ0",
        "colab_type": "code",
        "colab": {}
      },
      "cell_type": "code",
      "source": [
        "%matplotlib inline\n",
        "%config InlineBackend.figure_format='retina'\n",
        "\n",
        "import numpy as np\n",
        "import torch \n",
        "# import helper_pytorch \n",
        "import matplotlib.pyplot as plt"
      ],
      "execution_count": 0,
      "outputs": []
    },
    {
      "metadata": {
        "id": "66VpQ2ZLT-Bs",
        "colab_type": "code",
        "colab": {
          "base_uri": "https://localhost:8080/",
          "height": 34
        },
        "outputId": "d920308f-0222-4a3c-fb31-16ad5a287e4a"
      },
      "cell_type": "code",
      "source": [
        "torch.__version__"
      ],
      "execution_count": 5,
      "outputs": [
        {
          "output_type": "execute_result",
          "data": {
            "text/plain": [
              "'0.4.1'"
            ]
          },
          "metadata": {
            "tags": []
          },
          "execution_count": 5
        }
      ]
    },
    {
      "metadata": {
        "id": "E9FdvQY9S-rx",
        "colab_type": "code",
        "colab": {
          "base_uri": "https://localhost:8080/",
          "height": 119
        },
        "outputId": "d4310a55-a837-4835-b140-6b61447caee5"
      },
      "cell_type": "code",
      "source": [
        "# Load MNIST dataet\n",
        "\n",
        "from torchvision import datasets, transforms\n",
        "\n",
        "# Define a transform to normalize the data\n",
        "transform = transforms.Compose([transforms.ToTensor(), transforms.Normalize((0.5,0.5,0.5), (0.5,0.5,0.5)),])\n",
        "\n",
        "# Download and load the training data\n",
        "train_data = datasets.MNIST('~/.pytorch/MNIST_data/', download=True, train=True, transform=transform)\n",
        "train_loader = torch.utils.data.DataLoader(train_data, batch_size=64, shuffle=True)"
      ],
      "execution_count": 6,
      "outputs": [
        {
          "output_type": "stream",
          "text": [
            "Downloading http://yann.lecun.com/exdb/mnist/train-images-idx3-ubyte.gz\n",
            "Downloading http://yann.lecun.com/exdb/mnist/train-labels-idx1-ubyte.gz\n",
            "Downloading http://yann.lecun.com/exdb/mnist/t10k-images-idx3-ubyte.gz\n",
            "Downloading http://yann.lecun.com/exdb/mnist/t10k-labels-idx1-ubyte.gz\n",
            "Processing...\n",
            "Done!\n"
          ],
          "name": "stdout"
        }
      ]
    },
    {
      "metadata": {
        "id": "Qh_CyBI5U6xT",
        "colab_type": "code",
        "colab": {
          "base_uri": "https://localhost:8080/",
          "height": 68
        },
        "outputId": "f0d525be-af4e-462d-a18e-241a34a2d082"
      },
      "cell_type": "code",
      "source": [
        "data_iter = iter(train_loader)\n",
        "images, labels = data_iter.next()\n",
        "print(type(images))\n",
        "print(images.shape)\n",
        "print(labels.shape)"
      ],
      "execution_count": 7,
      "outputs": [
        {
          "output_type": "stream",
          "text": [
            "<class 'torch.Tensor'>\n",
            "torch.Size([64, 1, 28, 28])\n",
            "torch.Size([64])\n"
          ],
          "name": "stdout"
        }
      ]
    },
    {
      "metadata": {
        "id": "_lGRTLHqcuh9",
        "colab_type": "code",
        "colab": {
          "base_uri": "https://localhost:8080/",
          "height": 265
        },
        "outputId": "6d382292-35a8-4ad8-a435-3b5f5f9448b1"
      },
      "cell_type": "code",
      "source": [
        "# Plot sample image\n",
        "plt.imshow(images[1].numpy().squeeze(), cmap='Greys_r');"
      ],
      "execution_count": 8,
      "outputs": [
        {
          "output_type": "display_data",
          "data": {
            "image/png": "[encoded data removed]",
            "text/plain": [
              "<matplotlib.figure.Figure at 0x7f4eb9f6ff28>"
            ]
          },
          "metadata": {
            "tags": [],
            "image/png": {
              "width": 249,
              "height": 248
            }
          }
        }
      ]
    },
    {
      "metadata": {
        "id": "RvCZu1W5dEgS",
        "colab_type": "text"
      },
      "cell_type": "markdown",
      "source": [
        "Flatten the batch of images images. Then build a multi-layer network with 784 input units, 256 hidden units, and 10 output units using random tensors for the weights and biases."
      ]
    },
    {
      "metadata": {
        "id": "aR0ZVvVSc9qX",
        "colab_type": "code",
        "colab": {
          "base_uri": "https://localhost:8080/",
          "height": 51
        },
        "outputId": "6a287f18-bc08-40f3-ddc3-83a355d1b5b2"
      },
      "cell_type": "code",
      "source": [
        "# Define activatio sigmoid function\n",
        "def activation(x):\n",
        "  return 1/(1+torch.exp(-x))\n",
        "\n",
        "hidden_units = 256\n",
        "output_units = 10\n",
        "\n",
        "# Flatten inputs with a batch of 64\n",
        "inputs = images.view(images.shape[0], -1)\n",
        "print(\"Input layer shape: \", inputs.shape)\n",
        "\n",
        "# Input layer\n",
        "w1 = torch.randn(inputs.shape[1], hidden_units)\n",
        "b1 = torch.randn(hidden_units)\n",
        "a = activation(torch.mm(inputs, w1) + b1)\n",
        "\n",
        "# Output layer\n",
        "w2 = torch.randn(hidden_units, output_units)\n",
        "b2 = torch.randn(output_units)\n",
        "\n",
        "output = torch.mm(a, w2) + b2\n",
        "output.shape"
      ],
      "execution_count": 9,
      "outputs": [
        {
          "output_type": "stream",
          "text": [
            "Input layer shape:  torch.Size([64, 784])\n"
          ],
          "name": "stdout"
        },
        {
          "output_type": "execute_result",
          "data": {
            "text/plain": [
              "torch.Size([64, 10])"
            ]
          },
          "metadata": {
            "tags": []
          },
          "execution_count": 9
        }
      ]
    },
    {
      "metadata": {
        "id": "3XxOfAJgew5X",
        "colab_type": "text"
      },
      "cell_type": "markdown",
      "source": [
        "To calculate this probability distribution, we often use the **softmax** function. Mathematically this looks like\n",
        "\n",
        "$$\n",
        "\\Large \\sigma(x_i) = \\cfrac{e^{x_i}}{\\sum_k^K{e^{x_k}}}\n",
        "$$"
      ]
    },
    {
      "metadata": {
        "id": "5MVWNBHvelG4",
        "colab_type": "code",
        "colab": {
          "base_uri": "https://localhost:8080/",
          "height": 187
        },
        "outputId": "a3cfa297-5c80-4311-9075-4810b7e706e0"
      },
      "cell_type": "code",
      "source": [
        "# Define sotmax\n",
        "def softmax(x):\n",
        "  \"\"\"Returns probability distribution of output\"\"\"\n",
        "  numerator = torch.exp(x)\n",
        "  denominator = torch.sum(torch.exp(x), dim=1)   # sum across columns\n",
        "  # reshape deno\n",
        "  denominator = denominator.view(-1, 1)\n",
        "  print(\"Shape of denominator: \", denominator.shape)\n",
        "  \n",
        "  return numerator/denominator\n",
        "\n",
        "# Get probability dist of the previous netwoek\n",
        "probabilities = softmax(output)\n",
        "# Check if the shape is (64, 10)\n",
        "print(probabilities.shape)\n",
        "\n",
        "# Does is sum to 1?\n",
        "print(probabilities.sum(dim=1))"
      ],
      "execution_count": 10,
      "outputs": [
        {
          "output_type": "stream",
          "text": [
            "Shape of denominator:  torch.Size([64, 1])\n",
            "torch.Size([64, 10])\n",
            "tensor([1.0000, 1.0000, 1.0000, 1.0000, 1.0000, 1.0000, 1.0000, 1.0000, 1.0000,\n",
            "        1.0000, 1.0000, 1.0000, 1.0000, 1.0000, 1.0000, 1.0000, 1.0000, 1.0000,\n",
            "        1.0000, 1.0000, 1.0000, 1.0000, 1.0000, 1.0000, 1.0000, 1.0000, 1.0000,\n",
            "        1.0000, 1.0000, 1.0000, 1.0000, 1.0000, 1.0000, 1.0000, 1.0000, 1.0000,\n",
            "        1.0000, 1.0000, 1.0000, 1.0000, 1.0000, 1.0000, 1.0000, 1.0000, 1.0000,\n",
            "        1.0000, 1.0000, 1.0000, 1.0000, 1.0000, 1.0000, 1.0000, 1.0000, 1.0000,\n",
            "        1.0000, 1.0000, 1.0000, 1.0000, 1.0000, 1.0000, 1.0000, 1.0000, 1.0000,\n",
            "        1.0000])\n"
          ],
          "name": "stdout"
        }
      ]
    },
    {
      "metadata": {
        "id": "-9jHZx37gMXq",
        "colab_type": "text"
      },
      "cell_type": "markdown",
      "source": [
        "## Building networks with PyTorch\n",
        "\n",
        "Building network using nn module. Building a network with 784 inputs, 256 hidden units, and 10 output units and softmax"
      ]
    },
    {
      "metadata": {
        "id": "hQICcirWf8tU",
        "colab_type": "code",
        "colab": {}
      },
      "cell_type": "code",
      "source": [
        "from torch import nn"
      ],
      "execution_count": 0,
      "outputs": []
    },
    {
      "metadata": {
        "id": "1_NCBA7kgLIL",
        "colab_type": "code",
        "colab": {}
      },
      "cell_type": "code",
      "source": [
        "class Network(nn.Module):\n",
        "  \"\"\" class inherits modules from nn\"\"\"\n",
        "  def __init__(self):\n",
        "    \"\"\"Registering network architecture and inheriting methods and attributes from nn class\"\"\"\n",
        "    super().__init__()\n",
        "    \n",
        "    # Define network architecture\n",
        "    self.hidden = nn.Linear(786, 256)\n",
        "    self.output = nn.Linear(256, 10)\n",
        "    \n",
        "    # Instantiate sigmoid activation and softmax for output layer\n",
        "    self.sigmoid = nn.Sigmoid()\n",
        "    self.softmax = nn.Softmax(dim=1)\n",
        "    \n",
        "  def forward(self, x):\n",
        "    \"\"\"Creates the forward architecture of the network\"\"\"\n",
        "    x = self.hidden(x)\n",
        "    x = self.sigmoid(x)\n",
        "    x = self.output(x)\n",
        "    x = self.softmax(x)\n",
        "    \n",
        "    return x"
      ],
      "execution_count": 0,
      "outputs": []
    },
    {
      "metadata": {
        "id": "MVANAxRfiLPl",
        "colab_type": "code",
        "colab": {
          "base_uri": "https://localhost:8080/",
          "height": 119
        },
        "outputId": "52bb4e75-fc76-4c1e-cbba-3b4b73498d35"
      },
      "cell_type": "code",
      "source": [
        "# Create a model and examine network architecture\n",
        "model = Network()\n",
        "model"
      ],
      "execution_count": 13,
      "outputs": [
        {
          "output_type": "execute_result",
          "data": {
            "text/plain": [
              "Network(\n",
              "  (hidden): Linear(in_features=786, out_features=256, bias=True)\n",
              "  (output): Linear(in_features=256, out_features=10, bias=True)\n",
              "  (sigmoid): Sigmoid()\n",
              "  (softmax): Softmax()\n",
              ")"
            ]
          },
          "metadata": {
            "tags": []
          },
          "execution_count": 13
        }
      ]
    },
    {
      "metadata": {
        "id": "Q4aaEVI4k8hB",
        "colab_type": "text"
      },
      "cell_type": "markdown",
      "source": [
        "PyTorch has `functional` module to define network concisely. The 'import torch.nn.functional as F' is the common wat to import this module"
      ]
    },
    {
      "metadata": {
        "id": "EWs9UHSpiVpR",
        "colab_type": "code",
        "colab": {}
      },
      "cell_type": "code",
      "source": [
        "import torch.nn.functional as F\n",
        "\n",
        "class Network(nn.Module):\n",
        "  \"\"\" class inherits modules from nn\"\"\"\n",
        "  def __init__(self):\n",
        "    \"\"\"Registering network architecture and inheriting methods and attributes from nn class\"\"\"\n",
        "    super().__init__()\n",
        "    \n",
        "    # Define network architecture\n",
        "    self.hidden = nn.Linear(786, 256)\n",
        "    self.output = nn.Linear(256, 10)\n",
        "  \n",
        "    \n",
        "  def forward(self, x):\n",
        "    \"\"\"Creates the forward architecture of the network\"\"\"\n",
        "    x = F.sigmoid(self.hidden(x))\n",
        "    x = F.softmax(self.output(x), dim=1)\n",
        "    \n",
        "    return x"
      ],
      "execution_count": 0,
      "outputs": []
    },
    {
      "metadata": {
        "id": "1bG9rXPSlzOw",
        "colab_type": "code",
        "colab": {
          "base_uri": "https://localhost:8080/",
          "height": 85
        },
        "outputId": "053b4a6d-f0c7-4d2f-e294-e58d8c187533"
      },
      "cell_type": "code",
      "source": [
        "# Create a model and examine network architecture\n",
        "model = Network()\n",
        "model"
      ],
      "execution_count": 15,
      "outputs": [
        {
          "output_type": "execute_result",
          "data": {
            "text/plain": [
              "Network(\n",
              "  (hidden): Linear(in_features=786, out_features=256, bias=True)\n",
              "  (output): Linear(in_features=256, out_features=10, bias=True)\n",
              ")"
            ]
          },
          "metadata": {
            "tags": []
          },
          "execution_count": 15
        }
      ]
    },
    {
      "metadata": {
        "id": "VuBx-drll98s",
        "colab_type": "text"
      },
      "cell_type": "markdown",
      "source": [
        "> **Exercise:** Create a network with 784 input units, a hidden layer with 128 units and a ReLU activation, then a hidden layer with 64 units and a ReLU activation, and finally an output layer with a softmax activation as shown above. You can use a ReLU activation with the `nn.ReLU` module or `F.relu` function."
      ]
    },
    {
      "metadata": {
        "id": "QjIuGR74l1CF",
        "colab_type": "code",
        "colab": {}
      },
      "cell_type": "code",
      "source": [
        "class Network_2(nn.Module):\n",
        "  def __init__(self):\n",
        "    super().__init__()\n",
        "    \n",
        "    # Define network architecture\n",
        "    self.hidden = nn.Linear(784, 128)\n",
        "    self.hidden_2 = nn.Linear(128, 64)\n",
        "    self.output = nn.Linear(64, 10)\n",
        "  \n",
        "    \n",
        "  def forward(self, x):\n",
        "    \"\"\"Creates the forward architecture of the network\"\"\"\n",
        "    x = F.relu(self.hidden(x))\n",
        "    x = F.relu(self.hidden_2(x))\n",
        "    x = F.softmax(self.output(x), dim=1)\n",
        "    \n",
        "    return x"
      ],
      "execution_count": 0,
      "outputs": []
    },
    {
      "metadata": {
        "id": "GDm67iK4mV9W",
        "colab_type": "code",
        "colab": {
          "base_uri": "https://localhost:8080/",
          "height": 102
        },
        "outputId": "f19e5ba0-88ec-4789-e60d-fe5fc19f75bc"
      },
      "cell_type": "code",
      "source": [
        "model = Network_2()\n",
        "model"
      ],
      "execution_count": 17,
      "outputs": [
        {
          "output_type": "execute_result",
          "data": {
            "text/plain": [
              "Network_2(\n",
              "  (hidden): Linear(in_features=784, out_features=128, bias=True)\n",
              "  (hidden_2): Linear(in_features=128, out_features=64, bias=True)\n",
              "  (output): Linear(in_features=64, out_features=10, bias=True)\n",
              ")"
            ]
          },
          "metadata": {
            "tags": []
          },
          "execution_count": 17
        }
      ]
    },
    {
      "metadata": {
        "id": "EU_QYZJRmdSk",
        "colab_type": "text"
      },
      "cell_type": "markdown",
      "source": [
        "### Initializing weights and biases\n",
        "\n",
        "The weights and such are automatically initialized for you, but it's possible to customize how they are initialized. The weights and biases are tensors attached to the layer you defined, you can get them with `model.fc1.weight` for instance."
      ]
    },
    {
      "metadata": {
        "id": "d9sD_N5LmXSb",
        "colab_type": "code",
        "colab": {
          "base_uri": "https://localhost:8080/",
          "height": 476
        },
        "outputId": "1bb9d8e7-f6d1-49c1-8a32-486ac010af01"
      },
      "cell_type": "code",
      "source": [
        "print(model.hidden.weight)\n",
        "print(model.hidden.bias)"
      ],
      "execution_count": 18,
      "outputs": [
        {
          "output_type": "stream",
          "text": [
            "Parameter containing:\n",
            "tensor([[-0.0232, -0.0257, -0.0237,  ..., -0.0012, -0.0160, -0.0111],\n",
            "        [-0.0157, -0.0096,  0.0155,  ..., -0.0133, -0.0045, -0.0145],\n",
            "        [-0.0131, -0.0297, -0.0240,  ..., -0.0145, -0.0111, -0.0154],\n",
            "        ...,\n",
            "        [-0.0202,  0.0133,  0.0278,  ...,  0.0158, -0.0290, -0.0181],\n",
            "        [ 0.0092, -0.0205, -0.0215,  ..., -0.0047,  0.0220, -0.0339],\n",
            "        [-0.0220,  0.0299, -0.0110,  ..., -0.0067, -0.0331,  0.0230]],\n",
            "       requires_grad=True)\n",
            "Parameter containing:\n",
            "tensor([-0.0202,  0.0321,  0.0227, -0.0069, -0.0139,  0.0078,  0.0164, -0.0335,\n",
            "         0.0292, -0.0106, -0.0145, -0.0288,  0.0316,  0.0329, -0.0331,  0.0272,\n",
            "        -0.0191,  0.0100, -0.0014, -0.0286, -0.0207,  0.0012, -0.0050,  0.0321,\n",
            "         0.0221, -0.0352, -0.0183,  0.0345, -0.0153,  0.0237, -0.0141, -0.0075,\n",
            "        -0.0009, -0.0229,  0.0253,  0.0057, -0.0188, -0.0238, -0.0218, -0.0026,\n",
            "        -0.0016,  0.0256,  0.0062,  0.0355, -0.0340, -0.0246,  0.0062,  0.0273,\n",
            "        -0.0260, -0.0267, -0.0294, -0.0062,  0.0070,  0.0192, -0.0115, -0.0130,\n",
            "         0.0277, -0.0254,  0.0294,  0.0300,  0.0095, -0.0153, -0.0320,  0.0007,\n",
            "         0.0254,  0.0350,  0.0015,  0.0202,  0.0189, -0.0132, -0.0028,  0.0258,\n",
            "         0.0072, -0.0162,  0.0018, -0.0243,  0.0059,  0.0024,  0.0211,  0.0015,\n",
            "         0.0133, -0.0088,  0.0076,  0.0250, -0.0181,  0.0190, -0.0234, -0.0157,\n",
            "        -0.0094,  0.0226,  0.0057, -0.0081, -0.0058,  0.0071, -0.0356,  0.0229,\n",
            "        -0.0145,  0.0252, -0.0270,  0.0051,  0.0117,  0.0040, -0.0265, -0.0339,\n",
            "         0.0238, -0.0122, -0.0274,  0.0004,  0.0072,  0.0022,  0.0154, -0.0112,\n",
            "         0.0058, -0.0303, -0.0215, -0.0005,  0.0151,  0.0129, -0.0097,  0.0049,\n",
            "         0.0068, -0.0096,  0.0356,  0.0099,  0.0340, -0.0229,  0.0354, -0.0135],\n",
            "       requires_grad=True)\n"
          ],
          "name": "stdout"
        }
      ]
    },
    {
      "metadata": {
        "id": "Enorv39Mnidf",
        "colab_type": "text"
      },
      "cell_type": "markdown",
      "source": [
        "For custom initialization, we want to modify these tensors in place. These are actually autograd *Variables*, so we need to get back the actual tensors with `model.fc1.weight.data`. Once we have the tensors, we can fill them with zeros (for biases) or random normal values."
      ]
    },
    {
      "metadata": {
        "id": "asl5uLPEmoe2",
        "colab_type": "code",
        "colab": {
          "base_uri": "https://localhost:8080/",
          "height": 136
        },
        "outputId": "2e789837-315c-439d-b637-9ca287366993"
      },
      "cell_type": "code",
      "source": [
        "# Set biases to all zeros\n",
        "model.hidden.bias.data.fill_(0);\n",
        "model.hidden_2.bias.data.fill_(0);\n",
        "\n",
        "# Sample from random normal with standard dev = 0.01\n",
        "model.hidden.weight.data.normal_(std=0.01);\n",
        "model.hidden_2.weight.data.normal_(std=0.01)"
      ],
      "execution_count": 19,
      "outputs": [
        {
          "output_type": "execute_result",
          "data": {
            "text/plain": [
              "tensor([[ 0.0019, -0.0052,  0.0026,  ..., -0.0076,  0.0038,  0.0184],\n",
              "        [ 0.0087, -0.0008, -0.0031,  ..., -0.0067,  0.0057, -0.0164],\n",
              "        [-0.0035,  0.0022, -0.0065,  ..., -0.0081,  0.0031, -0.0010],\n",
              "        ...,\n",
              "        [-0.0097, -0.0002,  0.0055,  ..., -0.0087,  0.0006,  0.0127],\n",
              "        [-0.0170, -0.0019, -0.0029,  ...,  0.0016, -0.0125,  0.0001],\n",
              "        [ 0.0057, -0.0029, -0.0079,  ...,  0.0145, -0.0113,  0.0069]])"
            ]
          },
          "metadata": {
            "tags": []
          },
          "execution_count": 19
        }
      ]
    },
    {
      "metadata": {
        "id": "r22YKSIfq_D2",
        "colab_type": "code",
        "colab": {}
      },
      "cell_type": "code",
      "source": [
        "# Define helper function to visualize class probability\n",
        "def view_classify(img, ps, version=\"MNIST\"):\n",
        "    ''' Function for viewing an image and it's predicted classes.\n",
        "    \n",
        "    Args: \n",
        "      img: image tensor, \n",
        "      ps: forward pass\n",
        "      \n",
        "    Returns:\n",
        "      plot of class probability\n",
        "    '''\n",
        "    ps = ps.data.numpy().squeeze()\n",
        "\n",
        "    fig, (ax1, ax2) = plt.subplots(figsize=(6,9), ncols=2)\n",
        "    ax1.imshow(img.resize_(1, 28, 28).numpy().squeeze())\n",
        "    ax1.axis('off')\n",
        "    ax2.barh(np.arange(10), ps)\n",
        "    ax2.set_aspect(0.1)\n",
        "    ax2.set_yticks(np.arange(10))\n",
        "    if version == \"MNIST\":\n",
        "        ax2.set_yticklabels(np.arange(10))\n",
        "    elif version == \"Fashion\":\n",
        "        ax2.set_yticklabels(['T-shirt/top',\n",
        "                            'Trouser',\n",
        "                            'Pullover',\n",
        "                            'Dress',\n",
        "                            'Coat',\n",
        "                            'Sandal',\n",
        "                            'Shirt',\n",
        "                            'Sneaker',\n",
        "                            'Bag',\n",
        "                            'Ankle Boot'], size='small');\n",
        "    ax2.set_title('Class Probability')\n",
        "    ax2.set_xlim(0, 1.1)\n",
        "\n",
        "    plt.tight_layout()\n"
      ],
      "execution_count": 0,
      "outputs": []
    },
    {
      "metadata": {
        "id": "PhGaqxmjoGAo",
        "colab_type": "text"
      },
      "cell_type": "markdown",
      "source": [
        "### Forward pass\n",
        "\n",
        "Pass images through the network"
      ]
    },
    {
      "metadata": {
        "id": "VUIXyjVGoEQd",
        "colab_type": "code",
        "colab": {
          "base_uri": "https://localhost:8080/",
          "height": 244
        },
        "outputId": "a8de9325-3787-4c1c-ebf0-b6149b35cc18"
      },
      "cell_type": "code",
      "source": [
        "# Grab some image data\n",
        "data_iter = iter(train_loader)\n",
        "images, labels = data_iter.next()\n",
        "\n",
        "# Flatten images into a 1D vector. Vector size will be (batch_size, color_channels, image_pixez)\n",
        "images.resize_(64, 1, 784)\n",
        "\n",
        "# Foreard pass through the network\n",
        "img_idx = 0\n",
        "ps = model.forward(images[img_idx,:])\n",
        "\n",
        "img = images[img_idx]\n",
        "view_classify(img.view(1, 28, 28), ps)"
      ],
      "execution_count": 21,
      "outputs": [
        {
          "output_type": "display_data",
          "data": {
            "image/png": "[encoded data removed]",
            "text/plain": [
              "<matplotlib.figure.Figure at 0x7f4e84eac2e8>"
            ]
          },
          "metadata": {
            "tags": [],
            "image/png": {
              "width": 424,
              "height": 227
            }
          }
        }
      ]
    },
    {
      "metadata": {
        "id": "7lpJdbmGr4XV",
        "colab_type": "text"
      },
      "cell_type": "markdown",
      "source": [
        "### Using nn.Sequential\n",
        "\n",
        "- It provides a convenient way to build network by passing tensors sequentially through operations. "
      ]
    },
    {
      "metadata": {
        "id": "_t6HLcCApJrN",
        "colab_type": "code",
        "colab": {
          "base_uri": "https://localhost:8080/",
          "height": 153
        },
        "outputId": "43cc8f76-cba0-4c34-96cb-466648e5144c"
      },
      "cell_type": "code",
      "source": [
        "# Hyperparameters \n",
        "input_size = 784\n",
        "hidden_sizes = [128, 64]\n",
        "output_size = 10\n",
        "\n",
        "# Build a feed-forward network\n",
        "model = nn.Sequential(nn.Linear(input_size, hidden_sizes[0]),\n",
        "                     nn.ReLU(),\n",
        "                     nn.Linear(hidden_sizes[0], hidden_sizes[1]),\n",
        "                     nn.ReLU(),\n",
        "                     nn.Linear(hidden_sizes[1], output_size),\n",
        "                     nn.Softmax(dim=1))\n",
        "print(model)"
      ],
      "execution_count": 22,
      "outputs": [
        {
          "output_type": "stream",
          "text": [
            "Sequential(\n",
            "  (0): Linear(in_features=784, out_features=128, bias=True)\n",
            "  (1): ReLU()\n",
            "  (2): Linear(in_features=128, out_features=64, bias=True)\n",
            "  (3): ReLU()\n",
            "  (4): Linear(in_features=64, out_features=10, bias=True)\n",
            "  (5): Softmax()\n",
            ")\n"
          ],
          "name": "stdout"
        }
      ]
    },
    {
      "metadata": {
        "id": "BDBzMI_Ns8Ao",
        "colab_type": "code",
        "colab": {
          "base_uri": "https://localhost:8080/",
          "height": 244
        },
        "outputId": "028772eb-c10b-4633-b445-5f9aa943f058"
      },
      "cell_type": "code",
      "source": [
        "# Forward passing through the network\n",
        "images, labels = next(iter(train_loader))\n",
        "images.resize_(images.shape[0], 1, 784)\n",
        "ps = model.forward(images[0,:])\n",
        "view_classify(images[0].view(1, 28, 28), ps)"
      ],
      "execution_count": 23,
      "outputs": [
        {
          "output_type": "display_data",
          "data": {
            "image/png": "[encoded data removed]",
            "text/plain": [
              "<matplotlib.figure.Figure at 0x7f4e81f174e0>"
            ]
          },
          "metadata": {
            "tags": [],
            "image/png": {
              "width": 424,
              "height": 227
            }
          }
        }
      ]
    },
    {
      "metadata": {
        "id": "cibckb54t5nt",
        "colab_type": "text"
      },
      "cell_type": "markdown",
      "source": [
        "We can also pass in an `OrderedDict` to name the individual layers and operations, instead of using incremental integers. Note that dictionary keys must be unique, so _each operation must have a different name_."
      ]
    },
    {
      "metadata": {
        "id": "UZUzKM3ftZBF",
        "colab_type": "code",
        "colab": {
          "base_uri": "https://localhost:8080/",
          "height": 153
        },
        "outputId": "08d8d02e-4bb4-44aa-d71d-e2fa42c2063b"
      },
      "cell_type": "code",
      "source": [
        "from collections import OrderedDict\n",
        "\n",
        "model = nn.Sequential(OrderedDict([\n",
        "    ('fc1', nn.Linear(input_size, hidden_sizes[0])),\n",
        "    ('relu1', nn.ReLU()),\n",
        "    ('fc2', nn.Linear(hidden_sizes[0], hidden_sizes[1])),\n",
        "    ('relu2', nn.ReLU()),\n",
        "    ('outpur', nn.Linear(hidden_sizes[1], output_size)),\n",
        "    ('softmax', nn.Softmax(dim=1))\n",
        "]))\n",
        "\n",
        "model\n",
        "                      "
      ],
      "execution_count": 24,
      "outputs": [
        {
          "output_type": "execute_result",
          "data": {
            "text/plain": [
              "Sequential(\n",
              "  (fc1): Linear(in_features=784, out_features=128, bias=True)\n",
              "  (relu1): ReLU()\n",
              "  (fc2): Linear(in_features=128, out_features=64, bias=True)\n",
              "  (relu2): ReLU()\n",
              "  (outpur): Linear(in_features=64, out_features=10, bias=True)\n",
              "  (softmax): Softmax()\n",
              ")"
            ]
          },
          "metadata": {
            "tags": []
          },
          "execution_count": 24
        }
      ]
    },
    {
      "metadata": {
        "id": "RvBED6aAuBLN",
        "colab_type": "code",
        "colab": {
          "base_uri": "https://localhost:8080/",
          "height": 51
        },
        "outputId": "f19336d4-7915-47e3-da7a-b56d26fc95e3"
      },
      "cell_type": "code",
      "source": [
        "# We can access layers either b integer or the name\n",
        "print(model[0])\n",
        "print(model.fc1)"
      ],
      "execution_count": 25,
      "outputs": [
        {
          "output_type": "stream",
          "text": [
            "Linear(in_features=784, out_features=128, bias=True)\n",
            "Linear(in_features=784, out_features=128, bias=True)\n"
          ],
          "name": "stdout"
        }
      ]
    },
    {
      "metadata": {
        "id": "ZzVmuRrWvOFh",
        "colab_type": "text"
      },
      "cell_type": "markdown",
      "source": [
        "## Training Neural Networks"
      ]
    },
    {
      "metadata": {
        "id": "obfq9Qu3u6gU",
        "colab_type": "code",
        "colab": {
          "base_uri": "https://localhost:8080/",
          "height": 34
        },
        "outputId": "0fee56c8-ce6d-439f-f1dd-5295ee8c95da"
      },
      "cell_type": "code",
      "source": [
        "# Build a feed-forward network\n",
        "model = nn.Sequential(OrderedDict([\n",
        "    ('fc1', nn.Linear(input_size, hidden_sizes[0])),\n",
        "    ('relu1', nn.ReLU()),\n",
        "    ('fc2', nn.Linear(hidden_sizes[0], hidden_sizes[1])),\n",
        "    ('relu2', nn.ReLU()),\n",
        "    ('outpur', nn.Linear(hidden_sizes[1], output_size))\n",
        "    \n",
        "]))\n",
        "\n",
        "# Define the loss\n",
        "criterion = nn.CrossEntropyLoss()\n",
        "\n",
        "# Fetch data\n",
        "images, labels = next(iter(train_loader))\n",
        "\n",
        "# Flatten images\n",
        "images = images.view(images.shape[0], -1)\n",
        "\n",
        "# Forward pass, get logits\n",
        "logits = model(images)\n",
        "\n",
        "# Calculate the loss with the logits and the labels\n",
        "loss = criterion(logits, labels)\n",
        "print(loss)"
      ],
      "execution_count": 26,
      "outputs": [
        {
          "output_type": "stream",
          "text": [
            "tensor(2.3266, grad_fn=<NllLossBackward>)\n"
          ],
          "name": "stdout"
        }
      ]
    },
    {
      "metadata": {
        "id": "GuDzb0o5-kNa",
        "colab_type": "text"
      },
      "cell_type": "markdown",
      "source": [
        "It's more convenient to build the model with a log-softmax output using `nn.LogSoftmax` or `F.log_softmax` ([documentation](https://pytorch.org/docs/stable/nn.html#torch.nn.LogSoftmax)). Then you can get the actual probabilities by taking the exponential `torch.exp(output)`. With a log-softmax output, you want to use the negative log likelihood loss, `nn.NLLLoss` ([documentation](https://pytorch.org/docs/stable/nn.html#torch.nn.NLLLoss)).\n"
      ]
    },
    {
      "metadata": {
        "id": "uCAAuvAi--79",
        "colab_type": "text"
      },
      "cell_type": "markdown",
      "source": [
        ">**Exercise:** Build a model that returns the log-softmax as the output and calculate the loss using the negative log likelihood loss. Note that for `nn.LogSoftmax` and `F.log_softmax` you'll need to set the `dim` keyword argument appropriately. `dim=0` calculates softmax across the rows, so each column sums to 1, while `dim=1` calculates across the columns so each row sums to 1. Think about what you want the output to be and choose `dim` appropriately."
      ]
    },
    {
      "metadata": {
        "id": "S8R44-IH9qxD",
        "colab_type": "code",
        "colab": {
          "base_uri": "https://localhost:8080/",
          "height": 34
        },
        "outputId": "2c7744f8-4789-4f78-fc79-0661ca944eb1"
      },
      "cell_type": "code",
      "source": [
        "model = nn.Sequential(OrderedDict([\n",
        "    ('fc1', nn.Linear(input_size, hidden_sizes[0])),\n",
        "    ('relu1', nn.ReLU()),\n",
        "    ('fc2', nn.Linear(hidden_sizes[0], hidden_sizes[1])),\n",
        "    ('relu2', nn.ReLU()),\n",
        "    ('outpur', nn.Linear(hidden_sizes[1], output_size)),\n",
        "    ('logSoftmax', nn.LogSoftmax(dim=1))   # using lof-softmax instead of actual prob\n",
        "    \n",
        "]))\n",
        "\n",
        "# Define the loss\n",
        "criterion = nn.NLLLoss()\n",
        "\n",
        "# Fetch data\n",
        "images, labels = next(iter(train_loader))\n",
        "\n",
        "# Flatten images\n",
        "images = images.view(images.shape[0], -1)\n",
        "\n",
        "# Forward pass, get logits\n",
        "log_probability = model(images)\n",
        "\n",
        "# Calculate the loss with the logits and the labels\n",
        "loss = criterion(log_probability, labels)\n",
        "print(loss)"
      ],
      "execution_count": 27,
      "outputs": [
        {
          "output_type": "stream",
          "text": [
            "tensor(2.3037, grad_fn=<NllLossBackward>)\n"
          ],
          "name": "stdout"
        }
      ]
    },
    {
      "metadata": {
        "id": "FgAHEjd7A6Ya",
        "colab_type": "text"
      },
      "cell_type": "markdown",
      "source": [
        "## Autograd\n",
        "\n",
        "- For automatic calculation of the gradient for backpropagation"
      ]
    },
    {
      "metadata": {
        "id": "EC0_JqmJ-3e1",
        "colab_type": "code",
        "colab": {
          "base_uri": "https://localhost:8080/",
          "height": 51
        },
        "outputId": "dfa7ebe7-1fc8-4de4-8383-5e5ca979384c"
      },
      "cell_type": "code",
      "source": [
        "x = torch.randn(2, 2, requires_grad=True)\n",
        "print(x)"
      ],
      "execution_count": 28,
      "outputs": [
        {
          "output_type": "stream",
          "text": [
            "tensor([[ 1.0788, -0.3422],\n",
            "        [ 0.6404, -0.4107]], requires_grad=True)\n"
          ],
          "name": "stdout"
        }
      ]
    },
    {
      "metadata": {
        "id": "BRhp1szuC4hs",
        "colab_type": "code",
        "colab": {
          "base_uri": "https://localhost:8080/",
          "height": 51
        },
        "outputId": "03de7914-48cc-4594-dad5-b4ff02cdc761"
      },
      "cell_type": "code",
      "source": [
        "y = x**2\n",
        "print(y)"
      ],
      "execution_count": 29,
      "outputs": [
        {
          "output_type": "stream",
          "text": [
            "tensor([[1.1638, 0.1171],\n",
            "        [0.4101, 0.1687]], grad_fn=<PowBackward0>)\n"
          ],
          "name": "stdout"
        }
      ]
    },
    {
      "metadata": {
        "id": "DMImg3ECC9N8",
        "colab_type": "code",
        "colab": {
          "base_uri": "https://localhost:8080/",
          "height": 34
        },
        "outputId": "810f654f-7de1-4a7a-d9df-3095103cc301"
      },
      "cell_type": "code",
      "source": [
        "# grad_fn shows the function that generated this variable\n",
        "print(y.grad_fn)"
      ],
      "execution_count": 30,
      "outputs": [
        {
          "output_type": "stream",
          "text": [
            "<PowBackward0 object at 0x7f4e847d79e8>\n"
          ],
          "name": "stdout"
        }
      ]
    },
    {
      "metadata": {
        "id": "0m_LQp_tDHg9",
        "colab_type": "code",
        "colab": {
          "base_uri": "https://localhost:8080/",
          "height": 34
        },
        "outputId": "42a75dbf-a296-4389-cd2b-721decd709e7"
      },
      "cell_type": "code",
      "source": [
        "z = y.mean()\n",
        "print(z)"
      ],
      "execution_count": 31,
      "outputs": [
        {
          "output_type": "stream",
          "text": [
            "tensor(0.4649, grad_fn=<MeanBackward1>)\n"
          ],
          "name": "stdout"
        }
      ]
    },
    {
      "metadata": {
        "id": "YtLwoMBRDTU_",
        "colab_type": "code",
        "colab": {
          "base_uri": "https://localhost:8080/",
          "height": 34
        },
        "outputId": "c6cffb66-6be8-44c4-aed1-5bc4707c9bda"
      },
      "cell_type": "code",
      "source": [
        "print(x.grad)"
      ],
      "execution_count": 32,
      "outputs": [
        {
          "output_type": "stream",
          "text": [
            "None\n"
          ],
          "name": "stdout"
        }
      ]
    },
    {
      "metadata": {
        "id": "YG0SQCN8D_ic",
        "colab_type": "text"
      },
      "cell_type": "markdown",
      "source": [
        "To calculate the gradients, you need to run the `.backward` method on a Variable, `z` for example. This will calculate the gradient for `z` with respect to `x`\n",
        "\n",
        "$$\n",
        "\\frac{\\partial z}{\\partial x} = \\frac{\\partial}{\\partial x}\\left[\\frac{1}{n}\\sum_i^n x_i^2\\right] = \\frac{x}{2}\n",
        "$$"
      ]
    },
    {
      "metadata": {
        "id": "PnAcNotODW_q",
        "colab_type": "code",
        "colab": {
          "base_uri": "https://localhost:8080/",
          "height": 85
        },
        "outputId": "e0a36720-ec5a-4a6b-b5dc-b6d802f5bbd8"
      },
      "cell_type": "code",
      "source": [
        "# To calculate the gradient, we need to run the .backward method on a Variable, z for example. \n",
        "z.backward()\n",
        "print(x.grad)\n",
        "print(x/2)"
      ],
      "execution_count": 33,
      "outputs": [
        {
          "output_type": "stream",
          "text": [
            "tensor([[ 0.5394, -0.1711],\n",
            "        [ 0.3202, -0.2054]])\n",
            "tensor([[ 0.5394, -0.1711],\n",
            "        [ 0.3202, -0.2054]], grad_fn=<DivBackward0>)\n"
          ],
          "name": "stdout"
        }
      ]
    },
    {
      "metadata": {
        "id": "qSmPnXElIGSx",
        "colab_type": "text"
      },
      "cell_type": "markdown",
      "source": [
        "## Loss and Autograd together"
      ]
    },
    {
      "metadata": {
        "id": "A3R3UsckDp5m",
        "colab_type": "code",
        "colab": {
          "base_uri": "https://localhost:8080/",
          "height": 187
        },
        "outputId": "ceb97c91-d2d5-4251-a786-032282ffe9ed"
      },
      "cell_type": "code",
      "source": [
        "print('Before backward pass: \\n', model[0].weight.grad)\n",
        "loss.backward()\n",
        "print('Aftwr backward pass: \\n', model[0].weight.grad)"
      ],
      "execution_count": 34,
      "outputs": [
        {
          "output_type": "stream",
          "text": [
            "Before backward pass: \n",
            " None\n",
            "Aftwr backward pass: \n",
            " tensor([[ 0.0051,  0.0051,  0.0051,  ...,  0.0051,  0.0051,  0.0051],\n",
            "        [ 0.0049,  0.0049,  0.0049,  ...,  0.0049,  0.0049,  0.0049],\n",
            "        [ 0.0005,  0.0005,  0.0005,  ...,  0.0005,  0.0005,  0.0005],\n",
            "        ...,\n",
            "        [ 0.0002,  0.0002,  0.0002,  ...,  0.0002,  0.0002,  0.0002],\n",
            "        [-0.0039, -0.0039, -0.0039,  ..., -0.0039, -0.0039, -0.0039],\n",
            "        [ 0.0001,  0.0001,  0.0001,  ...,  0.0001,  0.0001,  0.0001]])\n"
          ],
          "name": "stdout"
        }
      ]
    },
    {
      "metadata": {
        "id": "zW4XObPCIp0W",
        "colab_type": "text"
      },
      "cell_type": "markdown",
      "source": [
        "## Training the network\n",
        "\n",
        "General process of training with PyTorch\n",
        "\n",
        "- Make a forward pass through the network\n",
        "- Use the network output to calculate the loss\n",
        "- Perform a backward pass through the network with `loss.backward()` to calculate gradients\n",
        "- Take a step with the optimizer to update the weights\n",
        "\n",
        "Optimizers let's update weightss with the gradeintsvfrom backprop"
      ]
    },
    {
      "metadata": {
        "id": "OghaZlFNIdYi",
        "colab_type": "code",
        "colab": {}
      },
      "cell_type": "code",
      "source": [
        "from torch import optim\n",
        "\n",
        "# Optimizers requires the parameters to optimize and a learning rate\n",
        "optimizer = optim.SGD(model.parameters(), lr=0.01)"
      ],
      "execution_count": 0,
      "outputs": []
    },
    {
      "metadata": {
        "id": "rPbhLvndJJYl",
        "colab_type": "code",
        "colab": {
          "base_uri": "https://localhost:8080/",
          "height": 323
        },
        "outputId": "561eef3f-f85f-4a4a-8e5e-b9a9ecf636a7"
      },
      "cell_type": "code",
      "source": [
        "print(\"Initial weights -\", model[0].weight)\n",
        "\n",
        "images, labels = next(iter(train_loader))\n",
        "images.resize_(64, 784)\n",
        "\n",
        "# Clear the gradient. PyTorch by defualy accumulate gradients\n",
        "optimizer.zero_grad()\n",
        "\n",
        "# Forward pass, then backward pass, then update weights\n",
        "output = model.forward(images)\n",
        "loss = criterion(output, labels)\n",
        "loss.backward()\n",
        "print(\"Gradient - \", model[0].weight)"
      ],
      "execution_count": 36,
      "outputs": [
        {
          "output_type": "stream",
          "text": [
            "Initial weights - Parameter containing:\n",
            "tensor([[-0.0160, -0.0226, -0.0270,  ..., -0.0170,  0.0141, -0.0180],\n",
            "        [-0.0343, -0.0083, -0.0085,  ..., -0.0158,  0.0170,  0.0140],\n",
            "        [ 0.0036,  0.0356,  0.0252,  ..., -0.0090, -0.0067, -0.0338],\n",
            "        ...,\n",
            "        [-0.0084, -0.0068,  0.0341,  ...,  0.0310,  0.0105,  0.0282],\n",
            "        [ 0.0241,  0.0172, -0.0123,  ...,  0.0265, -0.0089, -0.0243],\n",
            "        [-0.0166,  0.0256, -0.0233,  ...,  0.0064,  0.0015, -0.0249]],\n",
            "       requires_grad=True)\n",
            "Gradient -  Parameter containing:\n",
            "tensor([[-0.0160, -0.0226, -0.0270,  ..., -0.0170,  0.0141, -0.0180],\n",
            "        [-0.0343, -0.0083, -0.0085,  ..., -0.0158,  0.0170,  0.0140],\n",
            "        [ 0.0036,  0.0356,  0.0252,  ..., -0.0090, -0.0067, -0.0338],\n",
            "        ...,\n",
            "        [-0.0084, -0.0068,  0.0341,  ...,  0.0310,  0.0105,  0.0282],\n",
            "        [ 0.0241,  0.0172, -0.0123,  ...,  0.0265, -0.0089, -0.0243],\n",
            "        [-0.0166,  0.0256, -0.0233,  ...,  0.0064,  0.0015, -0.0249]],\n",
            "       requires_grad=True)\n"
          ],
          "name": "stdout"
        }
      ]
    },
    {
      "metadata": {
        "id": "dUWFKBiHKfoL",
        "colab_type": "code",
        "colab": {
          "base_uri": "https://localhost:8080/",
          "height": 170
        },
        "outputId": "aa13ce31-76ce-431f-d0f7-535064880e1e"
      },
      "cell_type": "code",
      "source": [
        "# Take an update step and few the net weights\n",
        "optimizer.step()\n",
        "print(\"Updated weight - \", model[0].weight)"
      ],
      "execution_count": 37,
      "outputs": [
        {
          "output_type": "stream",
          "text": [
            "Updated weight -  Parameter containing:\n",
            "tensor([[-0.0159, -0.0226, -0.0270,  ..., -0.0169,  0.0141, -0.0180],\n",
            "        [-0.0343, -0.0083, -0.0085,  ..., -0.0158,  0.0170,  0.0139],\n",
            "        [ 0.0036,  0.0356,  0.0252,  ..., -0.0089, -0.0067, -0.0338],\n",
            "        ...,\n",
            "        [-0.0084, -0.0068,  0.0341,  ...,  0.0310,  0.0105,  0.0282],\n",
            "        [ 0.0241,  0.0172, -0.0123,  ...,  0.0265, -0.0089, -0.0243],\n",
            "        [-0.0166,  0.0256, -0.0233,  ...,  0.0064,  0.0015, -0.0249]],\n",
            "       requires_grad=True)\n"
          ],
          "name": "stdout"
        }
      ]
    },
    {
      "metadata": {
        "id": "pOFV3XHcNYot",
        "colab_type": "text"
      },
      "cell_type": "markdown",
      "source": [
        "### Implementing training loop\n"
      ]
    },
    {
      "metadata": {
        "id": "h7uw1UexLJ95",
        "colab_type": "code",
        "colab": {
          "base_uri": "https://localhost:8080/",
          "height": 102
        },
        "outputId": "fbff8c84-9783-409c-8469-3dd5e9f3fead"
      },
      "cell_type": "code",
      "source": [
        "model = nn.Sequential(nn.Linear(784, 128),\n",
        "                     nn.ReLU(),\n",
        "                     nn.Linear(128, 64),\n",
        "                     nn.ReLU(),\n",
        "                     nn.Linear(64, 10),\n",
        "                     nn.LogSoftmax(dim=1))\n",
        "criterion = nn.NLLLoss()\n",
        "optimizer = optim.SGD(model.parameters(), lr=0.003)\n",
        "\n",
        "epoch = 5\n",
        "\n",
        "for e in range(epoch):\n",
        "  running_loss = 0\n",
        "  for images, labels in train_loader:\n",
        "    images = images.view(images.shape[0], -1)   # flatten\n",
        "    \n",
        "    # Training pass\n",
        "    optimizer.zero_grad()   # zero out gradients\n",
        "    output = model.forward(images)\n",
        "    loss = criterion(output, labels)\n",
        "    loss.backward()\n",
        "    optimizer.step()\n",
        "    running_loss += loss.item()\n",
        "    \n",
        "  else:\n",
        "    print(f\"Training loss: { running_loss/len(train_loader)}\")"
      ],
      "execution_count": 38,
      "outputs": [
        {
          "output_type": "stream",
          "text": [
            "Training loss: 1.8020380913321652\n",
            "Training loss: 0.7530420531850379\n",
            "Training loss: 0.49969292714842345\n",
            "Training loss: 0.42173379986906356\n",
            "Training loss: 0.3826850441886164\n"
          ],
          "name": "stdout"
        }
      ]
    },
    {
      "metadata": {
        "id": "GcJhfnjpP9Hw",
        "colab_type": "text"
      },
      "cell_type": "markdown",
      "source": [
        "Check model predicitons"
      ]
    },
    {
      "metadata": {
        "id": "USFXX4R3O1Il",
        "colab_type": "code",
        "colab": {
          "base_uri": "https://localhost:8080/",
          "height": 244
        },
        "outputId": "89afd0f1-44a5-4b41-c3c3-1e97c1458e59"
      },
      "cell_type": "code",
      "source": [
        "img = images[25].view(1, 784)\n",
        "\n",
        "# Turn-off gradient to speed up predicition\n",
        "with torch.no_grad():\n",
        "  log_prob = model.forward(img)\n",
        "  \n",
        "# Output of the network are log prob, need to take softmax for probability\n",
        "ps = F.softmax(log_prob, dim=1)\n",
        "view_classify(img.view(1, 28, 28), ps)"
      ],
      "execution_count": 39,
      "outputs": [
        {
          "output_type": "display_data",
          "data": {
            "image/png": "[encoded data removed]",
            "text/plain": [
              "<matplotlib.figure.Figure at 0x7f4e81ddd550>"
            ]
          },
          "metadata": {
            "tags": [],
            "image/png": {
              "width": 424,
              "height": 227
            }
          }
        }
      ]
    },
    {
      "metadata": {
        "id": "j0Gh9n_QTd3A",
        "colab_type": "text"
      },
      "cell_type": "markdown",
      "source": [
        "## Classifyigng Clothing Images\n"
      ]
    },
    {
      "metadata": {
        "id": "jEeGG9xuQpN7",
        "colab_type": "code",
        "colab": {
          "base_uri": "https://localhost:8080/",
          "height": 119
        },
        "outputId": "b0fe7ba5-bfe3-4354-a641-1f47317de3ff"
      },
      "cell_type": "code",
      "source": [
        "# Load data\n",
        "\n",
        "# Define a transform to normalize the data\n",
        "transform = transforms.Compose([transforms.ToTensor(),\n",
        "                                transforms.Normalize((0.5, 0.5, 0.5), (0.5, 0.5, 0.5))])\n",
        "# Download and load the training data\n",
        "trainset = datasets.FashionMNIST('~/.pytorch/F_MNIST_data/', download=True, train=True, transform=transform)\n",
        "train_loader = torch.utils.data.DataLoader(trainset, batch_size=64, shuffle=True)\n",
        "\n",
        "# Download and load the test data\n",
        "testset = datasets.FashionMNIST('~/.pytorch/F_MNIST_data/', download=True, train=False, transform=transform)\n",
        "test_loader = torch.utils.data.DataLoader(testset, batch_size=64, shuffle=True)"
      ],
      "execution_count": 40,
      "outputs": [
        {
          "output_type": "stream",
          "text": [
            "Downloading http://fashion-mnist.s3-website.eu-central-1.amazonaws.com/train-images-idx3-ubyte.gz\n",
            "Downloading http://fashion-mnist.s3-website.eu-central-1.amazonaws.com/train-labels-idx1-ubyte.gz\n",
            "Downloading http://fashion-mnist.s3-website.eu-central-1.amazonaws.com/t10k-images-idx3-ubyte.gz\n",
            "Downloading http://fashion-mnist.s3-website.eu-central-1.amazonaws.com/t10k-labels-idx1-ubyte.gz\n",
            "Processing...\n",
            "Done!\n"
          ],
          "name": "stdout"
        }
      ]
    },
    {
      "metadata": {
        "id": "0b0c4FZI2TdW",
        "colab_type": "code",
        "colab": {}
      },
      "cell_type": "code",
      "source": [
        "def imshow(image, ax=None, title=None, normalize=True):\n",
        "    \"\"\"Imshow for Tensor.\"\"\"\n",
        "    if ax is None:\n",
        "        fig, ax = plt.subplots()\n",
        "    image = image.numpy().transpose((1, 2, 0))\n",
        "\n",
        "    if normalize:\n",
        "        mean = np.array([0.485, 0.456, 0.406])\n",
        "        std = np.array([0.229, 0.224, 0.225])\n",
        "        image = std * image + mean\n",
        "        image = np.clip(image, 0, 1)\n",
        "\n",
        "    ax.imshow(image)\n",
        "    ax.spines['top'].set_visible(False)\n",
        "    ax.spines['right'].set_visible(False)\n",
        "    ax.spines['left'].set_visible(False)\n",
        "    ax.spines['bottom'].set_visible(False)\n",
        "    ax.tick_params(axis='both', length=0)\n",
        "    ax.set_xticklabels('')\n",
        "    ax.set_yticklabels('')\n",
        "\n",
        "    return ax"
      ],
      "execution_count": 0,
      "outputs": []
    },
    {
      "metadata": {
        "id": "iH_yXFAw2Pkx",
        "colab_type": "code",
        "colab": {
          "base_uri": "https://localhost:8080/",
          "height": 248
        },
        "outputId": "31b3625b-e55c-41cb-a610-6e6396442b78"
      },
      "cell_type": "code",
      "source": [
        "# Sample data\n",
        "image, label = next(iter(train_loader))\n",
        "imshow(image[0,:]);"
      ],
      "execution_count": 42,
      "outputs": [
        {
          "output_type": "display_data",
          "data": {
            "image/png": "[encoded data removed]",
            "text/plain": [
              "<matplotlib.figure.Figure at 0x7f4e81535a58>"
            ]
          },
          "metadata": {
            "tags": [],
            "image/png": {
              "width": 231,
              "height": 231
            }
          }
        }
      ]
    },
    {
      "metadata": {
        "id": "rODuGqNF2j5Q",
        "colab_type": "text"
      },
      "cell_type": "markdown",
      "source": [
        "## Building the network\n",
        "\n",
        "Here you should define your network. As with MNIST, each image is 28x28 which is a total of 784 pixels, and there are 10 classes. Include at least one hidden layer with ReLU activations for the layers and to return the logits or log-softmax from the forward pass. I"
      ]
    },
    {
      "metadata": {
        "id": "SBolz_rs2YXG",
        "colab_type": "code",
        "colab": {
          "base_uri": "https://localhost:8080/",
          "height": 187
        },
        "outputId": "f14cbecb-4ea6-419d-d25b-6826126b521a"
      },
      "cell_type": "code",
      "source": [
        "# Define your network architecture \n",
        "model_classifier = nn.Sequential(nn.Linear(784, 256),\n",
        "                     nn.ReLU(),\n",
        "                     nn.Linear(256, 128),\n",
        "                     nn.ReLU(),\n",
        "                     nn.Linear(128, 64),\n",
        "                     nn.ReLU(),\n",
        "                     nn.Linear(64, 10),\n",
        "                     nn.LogSoftmax(dim=1))\n",
        "criterion = nn.NLLLoss()\n",
        "optimizer = optim.Adam(model.parameters(), lr=0.001)\n",
        "\n",
        "epoch = 10\n",
        "\n",
        "# Training loop\n",
        "for e in range(epoch):\n",
        "  running_loss = 0\n",
        "  for images, labels in train_loader:\n",
        "    images = images.view(images.shape[0], -1)   # flatten\n",
        "    \n",
        "    # Training pass\n",
        "    optimizer.zero_grad()   # zero out gradients\n",
        "    output = model.forward(images)\n",
        "#     output = model(images)\n",
        "    loss = criterion(output, labels)\n",
        "    loss.backward()\n",
        "    optimizer.step()\n",
        "    running_loss += loss.item()\n",
        "    \n",
        "  else:\n",
        "    print(f\"Training loss: { running_loss/len(train_loader)}\")"
      ],
      "execution_count": 43,
      "outputs": [
        {
          "output_type": "stream",
          "text": [
            "Training loss: 0.5172464898400215\n",
            "Training loss: 0.3727160583554046\n",
            "Training loss: 0.33726307405019873\n",
            "Training loss: 0.311822462310669\n",
            "Training loss: 0.2929659509963827\n",
            "Training loss: 0.2806628826282807\n",
            "Training loss: 0.26705426799018245\n",
            "Training loss: 0.2569707122597613\n",
            "Training loss: 0.24719379126612565\n",
            "Training loss: 0.23777981934501036\n"
          ],
          "name": "stdout"
        }
      ]
    },
    {
      "metadata": {
        "id": "-Q7sVFds3PVl",
        "colab_type": "code",
        "colab": {
          "base_uri": "https://localhost:8080/",
          "height": 227
        },
        "outputId": "ed9369cc-ee25-4d96-8ddd-2e108f99a067"
      },
      "cell_type": "code",
      "source": [
        "img = images[25].view(1, 784)\n",
        "\n",
        "# Turn-off gradient to speed up predicition\n",
        "with torch.no_grad():\n",
        "  log_prob = model_classifier.forward(img)\n",
        "\n",
        "# Test out your network!\n",
        "dataiter = iter(test_loader)\n",
        "images, labels = dataiter.next()\n",
        "img = images[1]\n",
        "# Convert 2D image to 1D vector\n",
        "img = img.resize_(1, 784)\n",
        "\n",
        "# Calculate the class probabilities (softmax) for img\n",
        "ps = torch.exp(model(img))\n",
        "\n",
        "# Plot the image and probabilities\n",
        "view_classify(img, ps, version='Fashion')"
      ],
      "execution_count": 44,
      "outputs": [
        {
          "output_type": "display_data",
          "data": {
            "image/png": "[encoded data removed]",
            "text/plain": [
              "<matplotlib.figure.Figure at 0x7f4e81572c50>"
            ]
          },
          "metadata": {
            "tags": [],
            "image/png": {
              "width": 424,
              "height": 210
            }
          }
        }
      ]
    },
    {
      "metadata": {
        "id": "2p8ItchD6vFl",
        "colab_type": "text"
      },
      "cell_type": "markdown",
      "source": [
        "## Inference and Validation\n"
      ]
    },
    {
      "metadata": {
        "id": "kKokbsTP4NfM",
        "colab_type": "code",
        "colab": {}
      },
      "cell_type": "code",
      "source": [
        "# Define a model\n",
        "class Classifier(nn.Module):\n",
        "  def __init__(self):\n",
        "    super().__init__()\n",
        "    self.fc1 = nn.Linear(784, 256)\n",
        "    self.fc2 = nn.Linear(256, 128)\n",
        "    self.fc3 = nn.Linear(128, 64)\n",
        "    self.fc4 = nn.Linear(64, 10)\n",
        "    \n",
        "  def forward(self, x):\n",
        "    # Flatten input tensor\n",
        "    x = x.view(x.shape[0], -1)\n",
        "    \n",
        "    x = F.relu(self.fc1(x))\n",
        "    x = F.relu(self.fc2(x))\n",
        "    x = F.relu(self.fc3(x))\n",
        "    x = F.log_softmax(self.fc4(x), dim=1)\n",
        "    \n",
        "    return x"
      ],
      "execution_count": 0,
      "outputs": []
    },
    {
      "metadata": {
        "id": "AyVjiGtzZCj3",
        "colab_type": "code",
        "colab": {
          "base_uri": "https://localhost:8080/",
          "height": 34
        },
        "outputId": "5ef07c60-711e-42f0-9b7c-99a04b2997e4"
      },
      "cell_type": "code",
      "source": [
        "# Make prediction\n",
        "# Instantiate a model \n",
        "model = Classifier()\n",
        "\n",
        "images, labels = next(iter(test_loader))\n",
        "\n",
        "# Get the class probability\n",
        "ps = torch.exp(model(images))\n",
        "\n",
        "# Check shape (64, 10)\n",
        "print(ps.shape)"
      ],
      "execution_count": 50,
      "outputs": [
        {
          "output_type": "stream",
          "text": [
            "torch.Size([64, 10])\n"
          ],
          "name": "stdout"
        }
      ]
    },
    {
      "metadata": {
        "id": "pBWA3Mbia9yQ",
        "colab_type": "text"
      },
      "cell_type": "markdown",
      "source": [
        "With the probabilities, we can get the most likely class using ps.topk method.\n",
        "\n",
        "To get the highest values, most likely class, we can use ps.topk(1)"
      ]
    },
    {
      "metadata": {
        "id": "-KQSevqDauuJ",
        "colab_type": "code",
        "colab": {
          "base_uri": "https://localhost:8080/",
          "height": 187
        },
        "outputId": "710a27d9-8f1a-40e1-a071-eacd63220474"
      },
      "cell_type": "code",
      "source": [
        "top_prob, top_class = ps.topk(1, dim=1)\n",
        "print(top_class[:10, :])"
      ],
      "execution_count": 54,
      "outputs": [
        {
          "output_type": "stream",
          "text": [
            "tensor([[0],\n",
            "        [9],\n",
            "        [0],\n",
            "        [0],\n",
            "        [0],\n",
            "        [9],\n",
            "        [9],\n",
            "        [0],\n",
            "        [0],\n",
            "        [0]])\n"
          ],
          "name": "stdout"
        }
      ]
    },
    {
      "metadata": {
        "id": "ArmqqUNvbaJP",
        "colab_type": "code",
        "colab": {
          "base_uri": "https://localhost:8080/",
          "height": 187
        },
        "outputId": "13469ae7-26fc-4740-b031-7a0ca9bafae9"
      },
      "cell_type": "code",
      "source": [
        "# Compare if predicted class match actual labels\n",
        "# top_class is A 2D TENSOR WITH SHAPE (64, 1)\n",
        "# labels is 1D with shape (64)\n",
        "equals = top_class == labels.view(*top_class.shape)   # make sure they have the same shape\n",
        "equals[:10]"
      ],
      "execution_count": 61,
      "outputs": [
        {
          "output_type": "execute_result",
          "data": {
            "text/plain": [
              "tensor([[0],\n",
              "        [0],\n",
              "        [0],\n",
              "        [0],\n",
              "        [1],\n",
              "        [0],\n",
              "        [0],\n",
              "        [0],\n",
              "        [0],\n",
              "        [0]], dtype=torch.uint8)"
            ]
          },
          "metadata": {
            "tags": []
          },
          "execution_count": 61
        }
      ]
    },
    {
      "metadata": {
        "id": "fOx7oRZ0cS5X",
        "colab_type": "code",
        "colab": {
          "base_uri": "https://localhost:8080/",
          "height": 34
        },
        "outputId": "cfb3c466-53c8-4dae-e606-e030d73db426"
      },
      "cell_type": "code",
      "source": [
        "# Accuracy is sum of correct prediction divide by number of examples\n",
        "# Since its equals is binary, we can use the mean as accuracy\n",
        "accuracy = torch.mean(equals.type(torch.FloatTensor))\n",
        "print(f'Accuracy: {accuracy.item()*100}%')"
      ],
      "execution_count": 63,
      "outputs": [
        {
          "output_type": "stream",
          "text": [
            "Accuracy: 14.0625%\n"
          ],
          "name": "stdout"
        }
      ]
    },
    {
      "metadata": {
        "id": "IMyxLswpeE6v",
        "colab_type": "text"
      },
      "cell_type": "markdown",
      "source": [
        ">**Exercise:** Implement the validation loop below and print out the total accuracy after the loop. You can largely copy and paste the code from above, but I suggest typing it in because writing it out yourself is essential for building the skill. In general you'll always learn more by typing it rather than copy-pasting. You should be able to get an accuracy above 80%."
      ]
    },
    {
      "metadata": {
        "id": "RwDMiU66dhAp",
        "colab_type": "code",
        "colab": {
          "base_uri": "https://localhost:8080/",
          "height": 527
        },
        "outputId": "80748ce7-0b70-4229-9bc0-30fb24b58623"
      },
      "cell_type": "code",
      "source": [
        "model = Classifier()\n",
        "criterion = nn.NLLLoss()\n",
        "optimizer = optim.Adam(model.parameters(), lr=0.003)\n",
        "\n",
        "epochs = 30\n",
        "steps = 0\n",
        "\n",
        "train_losses, test_losses = [], []\n",
        "for e in range(epochs):\n",
        "  running_loss = 0\n",
        "  for images, labels in train_loader:\n",
        "    optimizer.zero_grad()\n",
        "    \n",
        "    log_ps = model(images)\n",
        "    loss = criterion(log_ps, labels)\n",
        "    loss.backward()\n",
        "    optimizer.step()\n",
        "    \n",
        "    running_loss += loss.item()\n",
        "    \n",
        "  else:\n",
        "    test_loss = 0\n",
        "    accuracy = 0\n",
        "    \n",
        "    # Turn off gradients for validation, saves memeory and computations\n",
        "    with torch.no_grad():\n",
        "      for images, labels in test_loader:\n",
        "        log_ps_test = model(images)\n",
        "        test_loss += criterion(log_ps_test, labels)\n",
        "        \n",
        "        ps_test = torch.exp(log_ps_test)\n",
        "        top_prob, top_class = ps_test.topk(1, dim=1)\n",
        "        equals = top_class == labels.view(*top_class.shape)\n",
        "        accuracy += torch.mean(equals.type(torch.FloatTensor))\n",
        "    \n",
        "    train_losses.append(running_loss/len(train_loader))\n",
        "    test_losses.append(test_loss/len(test_loader)) \n",
        "    \n",
        "    print(\"Epoch: {}/{}.. \".format(e+1, epochs),\n",
        "          \"Training Loss: {:.3f}..\".format(running_loss/len(train_loader)),\n",
        "          \"Test Loss: {:.3f}..\".format(test_loss/len(test_loader)),\n",
        "          \"Test Accuracy: {:.3f}\".format(accuracy/len(test_loader)))\n",
        "          "
      ],
      "execution_count": 79,
      "outputs": [
        {
          "output_type": "stream",
          "text": [
            "Epoch: 1/30..  Training Loss: 0.512.. Test Loss: 0.444.. Test Accuracy: 0.836\n",
            "Epoch: 2/30..  Training Loss: 0.393.. Test Loss: 0.432.. Test Accuracy: 0.849\n",
            "Epoch: 3/30..  Training Loss: 0.356.. Test Loss: 0.384.. Test Accuracy: 0.861\n",
            "Epoch: 4/30..  Training Loss: 0.332.. Test Loss: 0.387.. Test Accuracy: 0.863\n",
            "Epoch: 5/30..  Training Loss: 0.314.. Test Loss: 0.387.. Test Accuracy: 0.864\n",
            "Epoch: 6/30..  Training Loss: 0.306.. Test Loss: 0.375.. Test Accuracy: 0.868\n",
            "Epoch: 7/30..  Training Loss: 0.291.. Test Loss: 0.383.. Test Accuracy: 0.867\n",
            "Epoch: 8/30..  Training Loss: 0.284.. Test Loss: 0.361.. Test Accuracy: 0.869\n",
            "Epoch: 9/30..  Training Loss: 0.272.. Test Loss: 0.360.. Test Accuracy: 0.875\n",
            "Epoch: 10/30..  Training Loss: 0.266.. Test Loss: 0.387.. Test Accuracy: 0.872\n",
            "Epoch: 11/30..  Training Loss: 0.262.. Test Loss: 0.376.. Test Accuracy: 0.874\n",
            "Epoch: 12/30..  Training Loss: 0.254.. Test Loss: 0.383.. Test Accuracy: 0.873\n",
            "Epoch: 13/30..  Training Loss: 0.246.. Test Loss: 0.355.. Test Accuracy: 0.883\n",
            "Epoch: 14/30..  Training Loss: 0.242.. Test Loss: 0.360.. Test Accuracy: 0.881\n",
            "Epoch: 15/30..  Training Loss: 0.237.. Test Loss: 0.366.. Test Accuracy: 0.882\n",
            "Epoch: 16/30..  Training Loss: 0.232.. Test Loss: 0.359.. Test Accuracy: 0.880\n",
            "Epoch: 17/30..  Training Loss: 0.229.. Test Loss: 0.388.. Test Accuracy: 0.874\n",
            "Epoch: 18/30..  Training Loss: 0.223.. Test Loss: 0.371.. Test Accuracy: 0.880\n",
            "Epoch: 19/30..  Training Loss: 0.217.. Test Loss: 0.372.. Test Accuracy: 0.881\n",
            "Epoch: 20/30..  Training Loss: 0.215.. Test Loss: 0.395.. Test Accuracy: 0.880\n",
            "Epoch: 21/30..  Training Loss: 0.209.. Test Loss: 0.386.. Test Accuracy: 0.878\n",
            "Epoch: 22/30..  Training Loss: 0.208.. Test Loss: 0.416.. Test Accuracy: 0.874\n",
            "Epoch: 23/30..  Training Loss: 0.205.. Test Loss: 0.375.. Test Accuracy: 0.884\n",
            "Epoch: 24/30..  Training Loss: 0.200.. Test Loss: 0.370.. Test Accuracy: 0.886\n",
            "Epoch: 25/30..  Training Loss: 0.199.. Test Loss: 0.397.. Test Accuracy: 0.881\n",
            "Epoch: 26/30..  Training Loss: 0.193.. Test Loss: 0.398.. Test Accuracy: 0.882\n",
            "Epoch: 27/30..  Training Loss: 0.192.. Test Loss: 0.387.. Test Accuracy: 0.885\n",
            "Epoch: 28/30..  Training Loss: 0.191.. Test Loss: 0.392.. Test Accuracy: 0.883\n",
            "Epoch: 29/30..  Training Loss: 0.185.. Test Loss: 0.415.. Test Accuracy: 0.874\n",
            "Epoch: 30/30..  Training Loss: 0.180.. Test Loss: 0.400.. Test Accuracy: 0.885\n"
          ],
          "name": "stdout"
        }
      ]
    },
    {
      "metadata": {
        "id": "oBzclq7zf3UN",
        "colab_type": "code",
        "colab": {
          "base_uri": "https://localhost:8080/",
          "height": 265
        },
        "outputId": "3d596e1c-35be-49c1-a910-7300319b8cd1"
      },
      "cell_type": "code",
      "source": [
        "# Visualize learning curve\n",
        "plt.plot(train_losses,label='Training loss')\n",
        "plt.plot(test_losses,label='Validation loss')\n",
        "plt.legend(frameon=False);"
      ],
      "execution_count": 81,
      "outputs": [
        {
          "output_type": "display_data",
          "data": {
            "image/png": "[encoded data removed]",
            "text/plain": [
              "<matplotlib.figure.Figure at 0x7f4e81033898>"
            ]
          },
          "metadata": {
            "tags": [],
            "image/png": {
              "width": 376,
              "height": 248
            }
          }
        }
      ]
    },
    {
      "metadata": {
        "id": "L2mSmxMrpHJB",
        "colab_type": "text"
      },
      "cell_type": "markdown",
      "source": [
        "## Overfitting\n",
        "\n",
        "The most common method to reduce overfitting (outside of early-stopping) is dropout, where we randomly drop input units. This forces the network to share information between weights, increasing it's ability to generalize to new data. Adding dropout in PyTorch is straightforward using the `nn.Dropout` module.\n",
        "\n",
        "- We want to use dropout during training, but should turn off during serving"
      ]
    },
    {
      "metadata": {
        "id": "HcazWiZYjVpU",
        "colab_type": "code",
        "colab": {}
      },
      "cell_type": "code",
      "source": [
        "# Define a model with dropout regularizer\n",
        "\n",
        "class Classifier(nn.Module):\n",
        "  def __init__(self):\n",
        "    super().__init__()\n",
        "    self.fc1 = nn.Linear(784, 256)\n",
        "    self.fc2 = nn.Linear(256, 128)\n",
        "    self.fc3 = nn.Linear(128, 64)\n",
        "    self.fc4 = nn.Linear(64, 10)\n",
        "    \n",
        "    # Dropout module with 0.2 drop probability\n",
        "    self.dropout = nn.Dropout(p=0.2)\n",
        "    \n",
        "  def forward(self, x):\n",
        "    # Flatten input tensor\n",
        "    x = x.view(x.shape[0], -1)\n",
        "    \n",
        "    # Including dropout\n",
        "    x = self.dropout(F.relu(self.fc1(x)))\n",
        "    x = self.dropout(F.relu(self.fc2(x)))\n",
        "    x = self.dropout(F.relu(self.fc3(x)))\n",
        "    \n",
        "    # Output layer no dropout\n",
        "    x = F.log_softmax(self.fc4(x), dim=1)\n",
        "    \n",
        "    return x"
      ],
      "execution_count": 0,
      "outputs": []
    },
    {
      "metadata": {
        "id": "2sfVugFZrU_W",
        "colab_type": "text"
      },
      "cell_type": "markdown",
      "source": [
        "Training with dropout and monitoring learning curve"
      ]
    },
    {
      "metadata": {
        "id": "BaxZDpB2pvnU",
        "colab_type": "code",
        "colab": {
          "base_uri": "https://localhost:8080/",
          "height": 527
        },
        "outputId": "52db9d9c-6d8e-467e-fb33-4775d6fb8a19"
      },
      "cell_type": "code",
      "source": [
        "model = Classifier()\n",
        "criterion = nn.NLLLoss()\n",
        "optimizer = optim.Adam(model.parameters(), lr=0.003)\n",
        "\n",
        "epochs = 30\n",
        "steps = 0\n",
        "\n",
        "train_losses, test_losses = [], []\n",
        "for e in range(epochs):\n",
        "  running_loss = 0\n",
        "  for images, labels in train_loader:\n",
        "    optimizer.zero_grad()\n",
        "    \n",
        "    log_ps = model(images)\n",
        "    loss = criterion(log_ps, labels)\n",
        "    loss.backward()\n",
        "    optimizer.step()\n",
        "    \n",
        "    running_loss += loss.item()\n",
        "    \n",
        "  else:\n",
        "    test_loss = 0\n",
        "    accuracy = 0\n",
        "    \n",
        "    # Turn off gradients for validation, saves memeory and computations\n",
        "    with torch.no_grad():\n",
        "      # Set model for evaluation model\n",
        "      model.eval()\n",
        "      \n",
        "      for images, labels in test_loader:\n",
        "        log_ps_test = model(images)\n",
        "        test_loss += criterion(log_ps_test, labels)\n",
        "        \n",
        "        ps_test = torch.exp(log_ps_test)\n",
        "        top_prob, top_class = ps_test.topk(1, dim=1)\n",
        "        equals = top_class == labels.view(*top_class.shape)\n",
        "        accuracy += torch.mean(equals.type(torch.FloatTensor))\n",
        "    \n",
        "    # set model back to train mode\n",
        "    model.train()\n",
        "    \n",
        "    train_losses.append(running_loss/len(train_loader))\n",
        "    test_losses.append(test_loss/len(test_loader)) \n",
        "    \n",
        "    print(\"Epoch: {}/{}.. \".format(e+1, epochs),\n",
        "          \"Training Loss: {:.3f}..\".format(running_loss/len(train_loader)),\n",
        "          \"Test Loss: {:.3f}..\".format(test_loss/len(test_loader)),\n",
        "          \"Test Accuracy: {:.3f}\".format(accuracy/len(test_loader)))\n",
        "          "
      ],
      "execution_count": 82,
      "outputs": [
        {
          "output_type": "stream",
          "text": [
            "Epoch: 1/30..  Training Loss: 0.602.. Test Loss: 0.478.. Test Accuracy: 0.829\n",
            "Epoch: 2/30..  Training Loss: 0.482.. Test Loss: 0.428.. Test Accuracy: 0.846\n",
            "Epoch: 3/30..  Training Loss: 0.445.. Test Loss: 0.395.. Test Accuracy: 0.856\n",
            "Epoch: 4/30..  Training Loss: 0.432.. Test Loss: 0.413.. Test Accuracy: 0.850\n",
            "Epoch: 5/30..  Training Loss: 0.425.. Test Loss: 0.425.. Test Accuracy: 0.854\n",
            "Epoch: 6/30..  Training Loss: 0.416.. Test Loss: 0.395.. Test Accuracy: 0.857\n",
            "Epoch: 7/30..  Training Loss: 0.408.. Test Loss: 0.423.. Test Accuracy: 0.860\n",
            "Epoch: 8/30..  Training Loss: 0.400.. Test Loss: 0.385.. Test Accuracy: 0.863\n",
            "Epoch: 9/30..  Training Loss: 0.396.. Test Loss: 0.407.. Test Accuracy: 0.852\n",
            "Epoch: 10/30..  Training Loss: 0.391.. Test Loss: 0.400.. Test Accuracy: 0.855\n",
            "Epoch: 11/30..  Training Loss: 0.386.. Test Loss: 0.389.. Test Accuracy: 0.867\n",
            "Epoch: 12/30..  Training Loss: 0.388.. Test Loss: 0.392.. Test Accuracy: 0.861\n",
            "Epoch: 13/30..  Training Loss: 0.380.. Test Loss: 0.369.. Test Accuracy: 0.871\n",
            "Epoch: 14/30..  Training Loss: 0.372.. Test Loss: 0.398.. Test Accuracy: 0.862\n",
            "Epoch: 15/30..  Training Loss: 0.379.. Test Loss: 0.384.. Test Accuracy: 0.870\n",
            "Epoch: 16/30..  Training Loss: 0.368.. Test Loss: 0.369.. Test Accuracy: 0.872\n",
            "Epoch: 17/30..  Training Loss: 0.367.. Test Loss: 0.376.. Test Accuracy: 0.866\n",
            "Epoch: 18/30..  Training Loss: 0.363.. Test Loss: 0.403.. Test Accuracy: 0.860\n",
            "Epoch: 19/30..  Training Loss: 0.358.. Test Loss: 0.383.. Test Accuracy: 0.868\n",
            "Epoch: 20/30..  Training Loss: 0.366.. Test Loss: 0.377.. Test Accuracy: 0.872\n",
            "Epoch: 21/30..  Training Loss: 0.361.. Test Loss: 0.375.. Test Accuracy: 0.866\n",
            "Epoch: 22/30..  Training Loss: 0.358.. Test Loss: 0.380.. Test Accuracy: 0.871\n",
            "Epoch: 23/30..  Training Loss: 0.348.. Test Loss: 0.374.. Test Accuracy: 0.873\n",
            "Epoch: 24/30..  Training Loss: 0.344.. Test Loss: 0.362.. Test Accuracy: 0.869\n",
            "Epoch: 25/30..  Training Loss: 0.353.. Test Loss: 0.392.. Test Accuracy: 0.871\n",
            "Epoch: 26/30..  Training Loss: 0.348.. Test Loss: 0.392.. Test Accuracy: 0.865\n",
            "Epoch: 27/30..  Training Loss: 0.354.. Test Loss: 0.385.. Test Accuracy: 0.865\n",
            "Epoch: 28/30..  Training Loss: 0.339.. Test Loss: 0.365.. Test Accuracy: 0.876\n",
            "Epoch: 29/30..  Training Loss: 0.341.. Test Loss: 0.372.. Test Accuracy: 0.872\n",
            "Epoch: 30/30..  Training Loss: 0.342.. Test Loss: 0.396.. Test Accuracy: 0.868\n"
          ],
          "name": "stdout"
        }
      ]
    },
    {
      "metadata": {
        "id": "Sc6hO0jusNE_",
        "colab_type": "code",
        "colab": {
          "base_uri": "https://localhost:8080/",
          "height": 265
        },
        "outputId": "210d1ffa-a86d-4bad-fdcd-6fa6f84427e9"
      },
      "cell_type": "code",
      "source": [
        "# Visualize learning curve with dropout \n",
        "plt.plot(train_losses,label='Training loss')\n",
        "plt.plot(test_losses,label='Validation loss')\n",
        "plt.legend(frameon=False);"
      ],
      "execution_count": 83,
      "outputs": [
        {
          "output_type": "display_data",
          "data": {
            "image/png": "[encoded data removed]",
            "text/plain": [
              "<matplotlib.figure.Figure at 0x7f4e810934a8>"
            ]
          },
          "metadata": {
            "tags": [],
            "image/png": {
              "width": 376,
              "height": 248
            }
          }
        }
      ]
    },
    {
      "metadata": {
        "id": "0LrjOevzs4ac",
        "colab_type": "text"
      },
      "cell_type": "markdown",
      "source": [
        "### Inference\n",
        "\n",
        "Now that the model is trained, we can use it for inference. Set the model in inference mode with model.eval(). And turn off autograd with the torch.no_grad() context."
      ]
    },
    {
      "metadata": {
        "id": "YCCd-HTHsv4L",
        "colab_type": "code",
        "colab": {
          "base_uri": "https://localhost:8080/",
          "height": 227
        },
        "outputId": "c9c9cb65-39ea-47c0-9a33-e2680ab6060e"
      },
      "cell_type": "code",
      "source": [
        "# Activate model instance for inference\n",
        "model.eval()\n",
        "\n",
        "dataiter = iter(test_loader)\n",
        "images, labels = dataiter.next()\n",
        "img = images[0]\n",
        "# Convert 2D image to 1D vector\n",
        "img = img.view(1, 784)\n",
        "\n",
        "# Calculate the class probabilities (softmax) for img\n",
        "with torch.no_grad():\n",
        "    output = model.forward(img)\n",
        "\n",
        "ps = torch.exp(output)\n",
        "\n",
        "# Plot the image and probabilities\n",
        "view_classify(img.view(1, 28, 28), ps, version='Fashion')"
      ],
      "execution_count": 85,
      "outputs": [
        {
          "output_type": "display_data",
          "data": {
            "image/png": "[encoded data removed]",
            "text/plain": [
              "<matplotlib.figure.Figure at 0x7f4e813507b8>"
            ]
          },
          "metadata": {
            "tags": [],
            "image/png": {
              "width": 424,
              "height": 210
            }
          }
        }
      ]
    },
    {
      "metadata": {
        "id": "sAUR2aRyuDFy",
        "colab_type": "text"
      },
      "cell_type": "markdown",
      "source": [
        "### Saving and Loading Trained Models"
      ]
    },
    {
      "metadata": {
        "id": "mW2UqwBuuUo1",
        "colab_type": "code",
        "colab": {}
      },
      "cell_type": "code",
      "source": [
        "# %writefile fc_model.py   \n",
        "import torch\n",
        "from torch import nn\n",
        "import torch.nn.functional as F\n",
        "\n",
        "\n",
        "class Network(nn.Module):\n",
        "    def __init__(self, input_size, output_size, hidden_layers, drop_p=0.5):\n",
        "        ''' Builds a feedforward network with arbitrary hidden layers.\n",
        "        \n",
        "            Arguments\n",
        "            ---------\n",
        "            input_size: integer, size of the input layer\n",
        "            output_size: integer, size of the output layer\n",
        "            hidden_layers: list of integers, the sizes of the hidden layers\n",
        "        \n",
        "        '''\n",
        "        super().__init__()\n",
        "        # Input to a hidden layer\n",
        "        self.hidden_layers = nn.ModuleList([nn.Linear(input_size, hidden_layers[0])])\n",
        "        \n",
        "        # Add a variable number of more hidden layers\n",
        "        layer_sizes = zip(hidden_layers[:-1], hidden_layers[1:])\n",
        "        self.hidden_layers.extend([nn.Linear(h1, h2) for h1, h2 in layer_sizes])\n",
        "        \n",
        "        self.output = nn.Linear(hidden_layers[-1], output_size)\n",
        "        \n",
        "        self.dropout = nn.Dropout(p=drop_p)\n",
        "        \n",
        "    def forward(self, x):\n",
        "        ''' Forward pass through the network, returns the output logits '''\n",
        "        \n",
        "        for each in self.hidden_layers:\n",
        "            x = F.relu(each(x))\n",
        "            x = self.dropout(x)\n",
        "        x = self.output(x)\n",
        "        \n",
        "        return F.log_softmax(x, dim=1)\n",
        "\n",
        "\n",
        "def validation(model, testloader, criterion):\n",
        "    accuracy = 0\n",
        "    test_loss = 0\n",
        "    for images, labels in testloader:\n",
        "\n",
        "        images = images.resize_(images.size()[0], 784)\n",
        "\n",
        "        output = model.forward(images)\n",
        "        test_loss += criterion(output, labels).item()\n",
        "\n",
        "        ## Calculating the accuracy \n",
        "        # Model's output is log-softmax, take exponential to get the probabilities\n",
        "        ps = torch.exp(output)\n",
        "        # Class with highest probability is our predicted class, compare with true label\n",
        "        equality = (labels.data == ps.max(1)[1])\n",
        "        # Accuracy is number of correct predictions divided by all predictions, just take the mean\n",
        "        accuracy += equality.type_as(torch.FloatTensor()).mean()\n",
        "\n",
        "    return test_loss, accuracy\n",
        "\n",
        "\n",
        "def train(model, trainloader, testloader, criterion, optimizer, epochs=5, print_every=40):\n",
        "    \n",
        "    steps = 0\n",
        "    running_loss = 0\n",
        "    for e in range(epochs):\n",
        "        # Model in training mode, dropout is on\n",
        "        model.train()\n",
        "        for images, labels in trainloader:\n",
        "            steps += 1\n",
        "            \n",
        "            # Flatten images into a 784 long vector\n",
        "            images.resize_(images.size()[0], 784)\n",
        "            \n",
        "            optimizer.zero_grad()\n",
        "            \n",
        "            output = model.forward(images)\n",
        "            loss = criterion(output, labels)\n",
        "            loss.backward()\n",
        "            optimizer.step()\n",
        "            \n",
        "            running_loss += loss.item()\n",
        "\n",
        "            if steps % print_every == 0:\n",
        "                # Model in inference mode, dropout is off\n",
        "                model.eval()\n",
        "                \n",
        "                # Turn off gradients for validation, will speed up inference\n",
        "                with torch.no_grad():\n",
        "                    test_loss, accuracy = validation(model, testloader, criterion)\n",
        "                \n",
        "                print(\"Epoch: {}/{}.. \".format(e+1, epochs),\n",
        "                      \"Training Loss: {:.3f}.. \".format(running_loss/print_every),\n",
        "                      \"Test Loss: {:.3f}.. \".format(test_loss/len(testloader)),\n",
        "                      \"Test Accuracy: {:.3f}\".format(accuracy/len(testloader)))\n",
        "                \n",
        "                running_loss = 0\n",
        "                \n",
        "                # Make sure dropout and grads are on for training\n",
        "                model.train()\n"
      ],
      "execution_count": 0,
      "outputs": []
    },
    {
      "metadata": {
        "id": "ruBoOLghv3_l",
        "colab_type": "code",
        "colab": {}
      },
      "cell_type": "code",
      "source": [
        "# Create the network, define the criterion and optimizer\n",
        "model = Network(784, 10, [500, 100])\n",
        "criterion = nn.NLLLoss()\n",
        "optimizer = optim.Adam(model.parameters(), lr=0.001)"
      ],
      "execution_count": 0,
      "outputs": []
    },
    {
      "metadata": {
        "id": "PTMpZMhywZKg",
        "colab_type": "code",
        "colab": {
          "base_uri": "https://localhost:8080/",
          "height": 799
        },
        "outputId": "acb781af-6505-40d1-f844-90bcfb8a3b24"
      },
      "cell_type": "code",
      "source": [
        "# Train the network\n",
        "train(model, train_loader, test_loader, criterion, optimizer, epochs=2)"
      ],
      "execution_count": 90,
      "outputs": [
        {
          "output_type": "stream",
          "text": [
            "Epoch: 1/2..  Training Loss: 1.446..  Test Loss: 0.819..  Test Accuracy: 0.719\n",
            "Epoch: 1/2..  Training Loss: 0.902..  Test Loss: 0.689..  Test Accuracy: 0.732\n",
            "Epoch: 1/2..  Training Loss: 0.828..  Test Loss: 0.624..  Test Accuracy: 0.764\n",
            "Epoch: 1/2..  Training Loss: 0.729..  Test Loss: 0.606..  Test Accuracy: 0.775\n",
            "Epoch: 1/2..  Training Loss: 0.680..  Test Loss: 0.592..  Test Accuracy: 0.780\n",
            "Epoch: 1/2..  Training Loss: 0.659..  Test Loss: 0.572..  Test Accuracy: 0.793\n",
            "Epoch: 1/2..  Training Loss: 0.611..  Test Loss: 0.539..  Test Accuracy: 0.801\n",
            "Epoch: 1/2..  Training Loss: 0.619..  Test Loss: 0.563..  Test Accuracy: 0.795\n",
            "Epoch: 1/2..  Training Loss: 0.642..  Test Loss: 0.545..  Test Accuracy: 0.798\n",
            "Epoch: 1/2..  Training Loss: 0.622..  Test Loss: 0.530..  Test Accuracy: 0.795\n",
            "Epoch: 1/2..  Training Loss: 0.619..  Test Loss: 0.515..  Test Accuracy: 0.812\n",
            "Epoch: 1/2..  Training Loss: 0.575..  Test Loss: 0.521..  Test Accuracy: 0.808\n",
            "Epoch: 1/2..  Training Loss: 0.575..  Test Loss: 0.511..  Test Accuracy: 0.812\n",
            "Epoch: 1/2..  Training Loss: 0.589..  Test Loss: 0.505..  Test Accuracy: 0.816\n",
            "Epoch: 1/2..  Training Loss: 0.567..  Test Loss: 0.502..  Test Accuracy: 0.813\n",
            "Epoch: 1/2..  Training Loss: 0.587..  Test Loss: 0.497..  Test Accuracy: 0.819\n",
            "Epoch: 1/2..  Training Loss: 0.592..  Test Loss: 0.480..  Test Accuracy: 0.821\n",
            "Epoch: 1/2..  Training Loss: 0.575..  Test Loss: 0.476..  Test Accuracy: 0.823\n",
            "Epoch: 1/2..  Training Loss: 0.505..  Test Loss: 0.478..  Test Accuracy: 0.822\n",
            "Epoch: 1/2..  Training Loss: 0.556..  Test Loss: 0.467..  Test Accuracy: 0.826\n",
            "Epoch: 1/2..  Training Loss: 0.535..  Test Loss: 0.458..  Test Accuracy: 0.829\n",
            "Epoch: 1/2..  Training Loss: 0.548..  Test Loss: 0.474..  Test Accuracy: 0.823\n",
            "Epoch: 1/2..  Training Loss: 0.553..  Test Loss: 0.475..  Test Accuracy: 0.826\n",
            "Epoch: 2/2..  Training Loss: 0.542..  Test Loss: 0.455..  Test Accuracy: 0.832\n",
            "Epoch: 2/2..  Training Loss: 0.533..  Test Loss: 0.451..  Test Accuracy: 0.833\n",
            "Epoch: 2/2..  Training Loss: 0.522..  Test Loss: 0.460..  Test Accuracy: 0.828\n",
            "Epoch: 2/2..  Training Loss: 0.533..  Test Loss: 0.471..  Test Accuracy: 0.827\n",
            "Epoch: 2/2..  Training Loss: 0.510..  Test Loss: 0.459..  Test Accuracy: 0.833\n",
            "Epoch: 2/2..  Training Loss: 0.527..  Test Loss: 0.479..  Test Accuracy: 0.827\n",
            "Epoch: 2/2..  Training Loss: 0.516..  Test Loss: 0.450..  Test Accuracy: 0.836\n",
            "Epoch: 2/2..  Training Loss: 0.513..  Test Loss: 0.460..  Test Accuracy: 0.828\n",
            "Epoch: 2/2..  Training Loss: 0.506..  Test Loss: 0.455..  Test Accuracy: 0.835\n",
            "Epoch: 2/2..  Training Loss: 0.471..  Test Loss: 0.453..  Test Accuracy: 0.833\n",
            "Epoch: 2/2..  Training Loss: 0.491..  Test Loss: 0.438..  Test Accuracy: 0.839\n",
            "Epoch: 2/2..  Training Loss: 0.511..  Test Loss: 0.456..  Test Accuracy: 0.836\n",
            "Epoch: 2/2..  Training Loss: 0.504..  Test Loss: 0.465..  Test Accuracy: 0.831\n",
            "Epoch: 2/2..  Training Loss: 0.506..  Test Loss: 0.450..  Test Accuracy: 0.836\n",
            "Epoch: 2/2..  Training Loss: 0.475..  Test Loss: 0.446..  Test Accuracy: 0.835\n",
            "Epoch: 2/2..  Training Loss: 0.475..  Test Loss: 0.435..  Test Accuracy: 0.838\n",
            "Epoch: 2/2..  Training Loss: 0.520..  Test Loss: 0.443..  Test Accuracy: 0.835\n",
            "Epoch: 2/2..  Training Loss: 0.512..  Test Loss: 0.448..  Test Accuracy: 0.834\n",
            "Epoch: 2/2..  Training Loss: 0.497..  Test Loss: 0.428..  Test Accuracy: 0.840\n",
            "Epoch: 2/2..  Training Loss: 0.498..  Test Loss: 0.432..  Test Accuracy: 0.843\n",
            "Epoch: 2/2..  Training Loss: 0.527..  Test Loss: 0.438..  Test Accuracy: 0.842\n",
            "Epoch: 2/2..  Training Loss: 0.485..  Test Loss: 0.422..  Test Accuracy: 0.847\n",
            "Epoch: 2/2..  Training Loss: 0.478..  Test Loss: 0.419..  Test Accuracy: 0.845\n"
          ],
          "name": "stdout"
        }
      ]
    },
    {
      "metadata": {
        "id": "Uq0NiUP6xB9M",
        "colab_type": "text"
      },
      "cell_type": "markdown",
      "source": [
        "### Saving and loading networks\n",
        "The parameters for PyTorch networks are stored in a model's `state_dict`. We can see the state dict contains the weight and bias matrices for each of our layers."
      ]
    },
    {
      "metadata": {
        "id": "7TWW_qXTw6KY",
        "colab_type": "code",
        "colab": {
          "base_uri": "https://localhost:8080/",
          "height": 275
        },
        "outputId": "3627b4f1-ad9c-4fc2-ee82-cb7ebc6d2ca6"
      },
      "cell_type": "code",
      "source": [
        "print('Trained model: \\n\\n', model, '\\n')\n",
        "print(\"The state dict keys: \\n\\n\", model.state_dict().keys())"
      ],
      "execution_count": 91,
      "outputs": [
        {
          "output_type": "stream",
          "text": [
            "Trained model: \n",
            "\n",
            " Network(\n",
            "  (hidden_layers): ModuleList(\n",
            "    (0): Linear(in_features=784, out_features=500, bias=True)\n",
            "    (1): Linear(in_features=500, out_features=100, bias=True)\n",
            "  )\n",
            "  (output): Linear(in_features=100, out_features=10, bias=True)\n",
            "  (dropout): Dropout(p=0.5)\n",
            ") \n",
            "\n",
            "The state dict keys: \n",
            "\n",
            " odict_keys(['hidden_layers.0.weight', 'hidden_layers.0.bias', 'hidden_layers.1.weight', 'hidden_layers.1.bias', 'output.weight', 'output.bias'])\n"
          ],
          "name": "stdout"
        }
      ]
    },
    {
      "metadata": {
        "id": "dln5URgSxtFd",
        "colab_type": "text"
      },
      "cell_type": "markdown",
      "source": [
        "The simplest thing to do is simply save the state dict with `torch.save`. For example, we can save it to a file `'checkpoint.pth'`."
      ]
    },
    {
      "metadata": {
        "id": "HUOlGFdfxarf",
        "colab_type": "code",
        "colab": {}
      },
      "cell_type": "code",
      "source": [
        "torch.save(model.state_dict(), 'checkpoint.pth')"
      ],
      "execution_count": 0,
      "outputs": []
    },
    {
      "metadata": {
        "id": "woBY5zRCx5UH",
        "colab_type": "text"
      },
      "cell_type": "markdown",
      "source": [
        "Then we can load the state dict with `torch.load`"
      ]
    },
    {
      "metadata": {
        "id": "0-JoFsORx3tH",
        "colab_type": "code",
        "colab": {
          "base_uri": "https://localhost:8080/",
          "height": 54
        },
        "outputId": "ec5e1e5c-7273-4149-e469-425872227978"
      },
      "cell_type": "code",
      "source": [
        "state_dict = torch.load('checkpoint.pth')\n",
        "# Check if model is loaded properly\n",
        "print(state_dict.keys())"
      ],
      "execution_count": 94,
      "outputs": [
        {
          "output_type": "stream",
          "text": [
            "odict_keys(['hidden_layers.0.weight', 'hidden_layers.0.bias', 'hidden_layers.1.weight', 'hidden_layers.1.bias', 'output.weight', 'output.bias'])\n"
          ],
          "name": "stdout"
        }
      ]
    },
    {
      "metadata": {
        "id": "zs37jSJ6yZ9-",
        "colab_type": "text"
      },
      "cell_type": "markdown",
      "source": [
        "Load the state dict into the network with `model.load_state_dict(state_dict)`"
      ]
    },
    {
      "metadata": {
        "id": "ev-Z6zxzyQqJ",
        "colab_type": "code",
        "colab": {}
      },
      "cell_type": "code",
      "source": [
        "model.load_state_dict(state_dict)"
      ],
      "execution_count": 0,
      "outputs": []
    },
    {
      "metadata": {
        "id": "H6YRk30_y40P",
        "colab_type": "text"
      },
      "cell_type": "markdown",
      "source": [
        "Loading the state dict works only if the model architecture is exactly the same as the checkpoint architecture. "
      ]
    },
    {
      "metadata": {
        "id": "U9W2GFZUynCQ",
        "colab_type": "code",
        "colab": {
          "base_uri": "https://localhost:8080/",
          "height": 405
        },
        "outputId": "a520b70f-9a60-45f2-f383-ea6e7cec2e9e"
      },
      "cell_type": "code",
      "source": [
        "# Create net network\n",
        "model = Network(784, 10, [400, 200, 100])\n",
        "model.load_state_dict(state_dict)"
      ],
      "execution_count": 96,
      "outputs": [
        {
          "output_type": "error",
          "ename": "RuntimeError",
          "evalue": "ignored",
          "traceback": [
            "\u001b[0;31m---------------------------------------------------------------------------\u001b[0m",
            "\u001b[0;31mRuntimeError\u001b[0m                              Traceback (most recent call last)",
            "\u001b[0;32m<ipython-input-96-da0d877461a3>\u001b[0m in \u001b[0;36m<module>\u001b[0;34m()\u001b[0m\n\u001b[1;32m      1\u001b[0m \u001b[0mmodel\u001b[0m \u001b[0;34m=\u001b[0m \u001b[0mNetwork\u001b[0m\u001b[0;34m(\u001b[0m\u001b[0;36m784\u001b[0m\u001b[0;34m,\u001b[0m \u001b[0;36m10\u001b[0m\u001b[0;34m,\u001b[0m \u001b[0;34m[\u001b[0m\u001b[0;36m400\u001b[0m\u001b[0;34m,\u001b[0m \u001b[0;36m200\u001b[0m\u001b[0;34m,\u001b[0m \u001b[0;36m100\u001b[0m\u001b[0;34m]\u001b[0m\u001b[0;34m)\u001b[0m\u001b[0;34m\u001b[0m\u001b[0;34m\u001b[0m\u001b[0m\n\u001b[0;32m----> 2\u001b[0;31m \u001b[0mmodel\u001b[0m\u001b[0;34m.\u001b[0m\u001b[0mload_state_dict\u001b[0m\u001b[0;34m(\u001b[0m\u001b[0mstate_dict\u001b[0m\u001b[0;34m)\u001b[0m\u001b[0;34m\u001b[0m\u001b[0;34m\u001b[0m\u001b[0m\n\u001b[0m",
            "\u001b[0;32m/usr/local/lib/python3.6/dist-packages/torch/nn/modules/module.py\u001b[0m in \u001b[0;36mload_state_dict\u001b[0;34m(self, state_dict, strict)\u001b[0m\n\u001b[1;32m    717\u001b[0m         \u001b[0;32mif\u001b[0m \u001b[0mlen\u001b[0m\u001b[0;34m(\u001b[0m\u001b[0merror_msgs\u001b[0m\u001b[0;34m)\u001b[0m \u001b[0;34m>\u001b[0m \u001b[0;36m0\u001b[0m\u001b[0;34m:\u001b[0m\u001b[0;34m\u001b[0m\u001b[0;34m\u001b[0m\u001b[0m\n\u001b[1;32m    718\u001b[0m             raise RuntimeError('Error(s) in loading state_dict for {}:\\n\\t{}'.format(\n\u001b[0;32m--> 719\u001b[0;31m                                self.__class__.__name__, \"\\n\\t\".join(error_msgs)))\n\u001b[0m\u001b[1;32m    720\u001b[0m \u001b[0;34m\u001b[0m\u001b[0m\n\u001b[1;32m    721\u001b[0m     \u001b[0;32mdef\u001b[0m \u001b[0mparameters\u001b[0m\u001b[0;34m(\u001b[0m\u001b[0mself\u001b[0m\u001b[0;34m)\u001b[0m\u001b[0;34m:\u001b[0m\u001b[0;34m\u001b[0m\u001b[0;34m\u001b[0m\u001b[0m\n",
            "\u001b[0;31mRuntimeError\u001b[0m: Error(s) in loading state_dict for Network:\n\tMissing key(s) in state_dict: \"hidden_layers.2.weight\", \"hidden_layers.2.bias\". \n\tsize mismatch for hidden_layers.0.weight: copying a param of torch.Size([400, 784]) from checkpoint, where the shape is torch.Size([500, 784]) in current model.\n\tsize mismatch for hidden_layers.0.bias: copying a param of torch.Size([400]) from checkpoint, where the shape is torch.Size([500]) in current model.\n\tsize mismatch for hidden_layers.1.weight: copying a param of torch.Size([200, 400]) from checkpoint, where the shape is torch.Size([100, 500]) in current model.\n\tsize mismatch for hidden_layers.1.bias: copying a param of torch.Size([200]) from checkpoint, where the shape is torch.Size([100]) in current model."
          ]
        }
      ]
    },
    {
      "metadata": {
        "id": "lYh1vwiszFc3",
        "colab_type": "text"
      },
      "cell_type": "markdown",
      "source": [
        "This means we need to rebuild the model exactly as it was when trained. Information about the model architecture needs to be saved in the checkpoint, along with the state dict. To do this,  build a dictionary with all the information needed to compeletely rebuild the model."
      ]
    },
    {
      "metadata": {
        "id": "Jj1PY401zBUr",
        "colab_type": "code",
        "colab": {}
      },
      "cell_type": "code",
      "source": [
        "# Rebuilding exactly as it was bult\n",
        "checkpoint = {'input_size': 784,\n",
        "              'output_size': 10,\n",
        "             'hidden_layers': [each.out_features for each in model.hidden_layers],\n",
        "             'state_dict': model.state_dict()}\n",
        "torch.save(checkpoint, 'checkpoint.pth')"
      ],
      "execution_count": 0,
      "outputs": []
    },
    {
      "metadata": {
        "id": "kxRAYSNy0DuF",
        "colab_type": "text"
      },
      "cell_type": "markdown",
      "source": [
        "Now the checkpoint has all the necessary information to rebuild the trained model. You can easily make that a function if you want. Similarly, we can write a function to load checkpoints"
      ]
    },
    {
      "metadata": {
        "id": "PRtCSpt0z4ZI",
        "colab_type": "code",
        "colab": {}
      },
      "cell_type": "code",
      "source": [
        "def load_checkpoint(filepath):\n",
        "  checkpoint = torch.load(filepath)\n",
        "  \n",
        "  model = Network(checkpoint['input_size'],\n",
        "                 checkpoint['output_size'],\n",
        "                 checkpoint['hidden_layers'])\n",
        "  model.load_state_dict(checkpoint['state_dict'])\n",
        "  \n",
        "  return model"
      ],
      "execution_count": 0,
      "outputs": []
    },
    {
      "metadata": {
        "id": "Nrppr7VZ0gMR",
        "colab_type": "code",
        "colab": {
          "base_uri": "https://localhost:8080/",
          "height": 170
        },
        "outputId": "82d858b1-55d7-4bdd-ef4a-d5bb54c99800"
      },
      "cell_type": "code",
      "source": [
        "model = load_checkpoint('checkpoint.pth')\n",
        "print(model)"
      ],
      "execution_count": 104,
      "outputs": [
        {
          "output_type": "stream",
          "text": [
            "Network(\n",
            "  (hidden_layers): ModuleList(\n",
            "    (0): Linear(in_features=784, out_features=400, bias=True)\n",
            "    (1): Linear(in_features=400, out_features=200, bias=True)\n",
            "    (2): Linear(in_features=200, out_features=100, bias=True)\n",
            "  )\n",
            "  (output): Linear(in_features=100, out_features=10, bias=True)\n",
            "  (dropout): Dropout(p=0.5)\n",
            ")\n"
          ],
          "name": "stdout"
        }
      ]
    },
    {
      "metadata": {
        "id": "vV9uMZqF1OWk",
        "colab_type": "text"
      },
      "cell_type": "markdown",
      "source": [
        "*Note: This tutorial is based on Udacity's Introduction to PyTorch course. Please refer the course website for mode details. *"
      ]
    },
    {
      "metadata": {
        "id": "hbJGJiTP0k98",
        "colab_type": "code",
        "colab": {}
      },
      "cell_type": "code",
      "source": [
        ""
      ],
      "execution_count": 0,
      "outputs": []
    }
  ]
}