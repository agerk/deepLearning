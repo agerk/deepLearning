{
  "nbformat": 4,
  "nbformat_minor": 0,
  "metadata": {
    "colab": {
      "name": "recurrent_neural_network_PyTorch.ipynb",
      "version": "0.3.2",
      "provenance": [],
      "collapsed_sections": [],
      "include_colab_link": true
    },
    "kernelspec": {
      "name": "python3",
      "display_name": "Python 3"
    },
    "accelerator": "GPU"
  },
  "cells": [
    {
      "cell_type": "markdown",
      "metadata": {
        "id": "view-in-github",
        "colab_type": "text"
      },
      "source": [
        "<a href=\"https://colab.research.google.com/github/agerk/deepLearning/blob/master/recurrent_neural_network_PyTorch.ipynb\" target=\"_parent\"><img src=\"https://colab.research.google.com/assets/colab-badge.svg\" alt=\"Open In Colab\"/></a>"
      ]
    },
    {
      "metadata": {
        "id": "FiACsF7b5at0",
        "colab_type": "code",
        "colab": {
          "base_uri": "https://localhost:8080/",
          "height": 411
        },
        "outputId": "9678302f-f3ee-4d74-b53d-3d5106b53da5"
      },
      "cell_type": "code",
      "source": [
        "!pip install torch torchvision\n",
        "!pip install --no-cache-dir -I pillow"
      ],
      "execution_count": 3,
      "outputs": [
        {
          "output_type": "stream",
          "text": [
            "Collecting torch\n",
            "\u001b[?25l  Downloading https://files.pythonhosted.org/packages/7e/60/66415660aa46b23b5e1b72bc762e816736ce8d7260213e22365af51e8f9c/torch-1.0.0-cp36-cp36m-manylinux1_x86_64.whl (591.8MB)\n",
            "\u001b[K    100% |████████████████████████████████| 591.8MB 26kB/s \n",
            "tcmalloc: large alloc 1073750016 bytes == 0x618f0000 @  0x7f941730a2a4 0x591a07 0x5b5d56 0x502e9a 0x506859 0x502209 0x502f3d 0x506859 0x504c28 0x502540 0x502f3d 0x506859 0x504c28 0x502540 0x502f3d 0x506859 0x504c28 0x502540 0x502f3d 0x507641 0x502209 0x502f3d 0x506859 0x504c28 0x502540 0x502f3d 0x507641 0x504c28 0x502540 0x502f3d 0x507641\n",
            "\u001b[?25hCollecting torchvision\n",
            "\u001b[?25l  Downloading https://files.pythonhosted.org/packages/ca/0d/f00b2885711e08bd71242ebe7b96561e6f6d01fdb4b9dcf4d37e2e13c5e1/torchvision-0.2.1-py2.py3-none-any.whl (54kB)\n",
            "\u001b[K    100% |████████████████████████████████| 61kB 23.4MB/s \n",
            "\u001b[?25hCollecting pillow>=4.1.1 (from torchvision)\n",
            "\u001b[?25l  Downloading https://files.pythonhosted.org/packages/62/94/5430ebaa83f91cc7a9f687ff5238e26164a779cca2ef9903232268b0a318/Pillow-5.3.0-cp36-cp36m-manylinux1_x86_64.whl (2.0MB)\n",
            "\u001b[K    100% |████████████████████████████████| 2.0MB 4.3MB/s \n",
            "\u001b[?25hRequirement already satisfied: six in /usr/local/lib/python3.6/dist-packages (from torchvision) (1.11.0)\n",
            "Requirement already satisfied: numpy in /usr/local/lib/python3.6/dist-packages (from torchvision) (1.14.6)\n",
            "Installing collected packages: torch, pillow, torchvision\n",
            "  Found existing installation: Pillow 4.0.0\n",
            "    Uninstalling Pillow-4.0.0:\n",
            "      Successfully uninstalled Pillow-4.0.0\n",
            "Successfully installed pillow-5.3.0 torch-1.0.0 torchvision-0.2.1\n",
            "Collecting pillow\n",
            "\u001b[?25l  Downloading https://files.pythonhosted.org/packages/62/94/5430ebaa83f91cc7a9f687ff5238e26164a779cca2ef9903232268b0a318/Pillow-5.3.0-cp36-cp36m-manylinux1_x86_64.whl (2.0MB)\n",
            "\u001b[K    100% |████████████████████████████████| 2.0MB 34.7MB/s \n",
            "\u001b[?25hInstalling collected packages: pillow\n",
            "Successfully installed pillow-5.3.0\n"
          ],
          "name": "stdout"
        }
      ]
    },
    {
      "metadata": {
        "id": "y1v21eGJnwLN",
        "colab_type": "code",
        "colab": {}
      },
      "cell_type": "code",
      "source": [
        "%matplotlib inline\n",
        "\n",
        "import torch\n",
        "from torch import nn\n",
        "import numpy as np\n",
        "import matplotlib.pyplot as plt\n",
        "import torch.nn.functional as F\n"
      ],
      "execution_count": 0,
      "outputs": []
    },
    {
      "metadata": {
        "id": "RVfL1kToCBpP",
        "colab_type": "text"
      },
      "cell_type": "markdown",
      "source": [
        "### Long Shrot Term Mempry (LSTM)\n",
        "\n",
        "**Problem statment: Watching a TV show and we have and we want to classify an image**\n",
        "\n",
        "Long Term Memory:\n",
        "  - Show about nature and Science\n",
        "  - Lots po forest animals\n",
        " \n",
        " Short Term Memory: \n",
        "  - Trees, Squirrels etc\n",
        "  \n",
        " Event we just saw:\n",
        "  - Images of a Dog or a Wolf\n",
        "\n",
        "**Objective: Combine all the three information and make a prediction about what out image is**\n",
        "\n",
        "- Output: function  (Long_term _memory, short_ term _memory,  event ) \n",
        "- Update the Long Term Memory using the hidden state information fom\n",
        "  - Show about Nature\n",
        "  - Lost of forest animals and trees\n",
        "- Update the Short Term Memory: say we want it to forget the show has trees and instead rember Wolves\n",
        "  - Wolves\n",
        "  - Squirrels\n",
        "  \n",
        "Architecture of LSTM contains fesw gates, suhc as:\n",
        "  - Forget Gate \n",
        "  - Remember Gate\n",
        "  - Learn Gate \n",
        "  - Use Gate \n",
        " \n",
        "Inside the LSTM archirecture:\n",
        "- The LTM goes to the **Forget Gate**: It forgets everything that it doesn't consider useful\n",
        "- The STM and Event joined together in the **Learn Gate**: Containing information that we've recently\n",
        "- The LSM that we haven't forgotten yet plust the new information that we have learned get joined together in the **Remember Gate**. The Remeber Gate output an updated **New LongTerm Memory**\n",
        "- The **Use Gate** decides what information we previously know from LTM and what we just learned to make New Short Tem Memory (Output). The output become the new prediction and New Short Tem Memory\n",
        "\n",
        "\n"
      ]
    },
    {
      "metadata": {
        "id": "1q2bHlfBeNTD",
        "colab_type": "text"
      },
      "cell_type": "markdown",
      "source": [
        "### Gated Reccurrent Unit (GRU)\n",
        "\n",
        "\n",
        "Working Memeory --> Update Gate + Iniput --> Combine Gate + Working Memeory --- > New Working Memeory\n",
        " \n",
        "                                              "
      ]
    },
    {
      "metadata": {
        "id": "zYAO7MkUnnoL",
        "colab_type": "text"
      },
      "cell_type": "markdown",
      "source": [
        "### Implimenting Simple RNN: Time Series Predicition"
      ]
    },
    {
      "metadata": {
        "id": "RqhTXUuQ5n5-",
        "colab_type": "code",
        "colab": {
          "base_uri": "https://localhost:8080/",
          "height": 354
        },
        "outputId": "e3307889-b2e1-4a20-a22c-a30588690147"
      },
      "cell_type": "code",
      "source": [
        "plt.figure(figsize=(8, 5))\n",
        "\n",
        "# Set time steps/data points in a singel batch\n",
        "seq_length = 20\n",
        "\n",
        "# Generate evenly spaced data points-- sine function\n",
        "time_steps = np.linspace(0, np.pi, seq_length + 1)\n",
        "data = np.sin(time_steps)\n",
        "print(data.shape)\n",
        "# Add input_size, 1D  \n",
        "data.resize((seq_length + 1, 1))\n",
        "print(data.shape)\n",
        "\n",
        "# Get x and y data points\n",
        "x = data[:-1]    # all but the last piece of data\n",
        "y = data[1:]     # all but the first\n",
        "\n",
        "# Display data\n",
        "plt.plot(time_steps[1:], x, 'r.', label='input, x')\n",
        "plt.plot(time_steps[1:], y, 'b.', label='target, y')\n",
        "\n",
        "plt.legend(loc='best')\n",
        "plt.show();"
      ],
      "execution_count": 5,
      "outputs": [
        {
          "output_type": "stream",
          "text": [
            "(21,)\n",
            "(21, 1)\n"
          ],
          "name": "stdout"
        },
        {
          "output_type": "display_data",
          "data": {
            "image/png": "[encoded data removed]",
            "text/plain": [
              "<matplotlib.figure.Figure at 0x7fe66e717400>"
            ]
          },
          "metadata": {
            "tags": []
          }
        }
      ]
    },
    {
      "metadata": {
        "id": "vmWIv5Bur2gh",
        "colab_type": "text"
      },
      "cell_type": "markdown",
      "source": [
        "---\n",
        "## Define the RNN\n",
        "\n",
        "Define an RNN in PyTorch. We'll use `nn.RNN` to create an RNN layer, then we'll add a last, fully-connected layer to get the output size that we want. An RNN takes in a number of parameters:\n",
        "* **input_size** - the size of the input\n",
        "* **hidden_dim** - the number of features in the RNN output and in the hidden state\n",
        "* **n_layers** - the number of layers that make up the RNN, typically 1-3; greater than 1 means that you'll create a stacked RNN\n",
        "* **batch_first** - whether or not the input/output of the RNN will have the batch_size as the first dimension (batch_size, seq_length, hidden_dim)\n",
        "\n",
        "Take a look at the [RNN documentation](https://pytorch.org/docs/stable/nn.html#rnn) to read more about recurrent layers."
      ]
    },
    {
      "metadata": {
        "id": "Ow2YBCjuoN_J",
        "colab_type": "code",
        "colab": {}
      },
      "cell_type": "code",
      "source": [
        "class RNN(nn.Module):\n",
        "  def __init__(self, input_size, output_size, hidden_dim, n_layers):\n",
        "    super(RNN, self).__init__()\n",
        "    \n",
        "    self.hidden_dim = hidden_dim\n",
        "    \n",
        "    # define an RNN with specified params\n",
        "    # batch_first means, the first dim will be batch size\n",
        "    self.rnn = nn.RNN(input_size, hidden_dim, n_layers, batch_first=True)\n",
        "    \n",
        "    # last fully connected layer\n",
        "    self.fc = nn.Linear(hidden_dim, output_size)\n",
        "    \n",
        "  def forward(self, x, hidden):\n",
        "    # x (batch_size, seq_length, input_size)\n",
        "    # hidden (n_layers, batch_size, hidden_dim)\n",
        "    # r_out (batch_size, time_step, hidden_size)\n",
        "    batch_size = x.size(0)\n",
        "    \n",
        "    # get RNN output\n",
        "    r_out, hidden = self.rnn(x, hidden)\n",
        "    # shape output to be (batch_size*seq_length, hidden_dim)\n",
        "    r_out = r_out.view(-1, self.hidden_dim)\n",
        "    \n",
        "    # Get final output\n",
        "    output = self.fc(r_out)\n",
        "    \n",
        "    return output, hidden\n",
        "    \n",
        "    \n",
        "    "
      ],
      "execution_count": 0,
      "outputs": []
    },
    {
      "metadata": {
        "id": "WRNIVYss1BBG",
        "colab_type": "text"
      },
      "cell_type": "markdown",
      "source": [
        "#### Check the input and output dimensions\n"
      ]
    },
    {
      "metadata": {
        "id": "dgTL4psO0tdJ",
        "colab_type": "code",
        "colab": {
          "base_uri": "https://localhost:8080/",
          "height": 68
        },
        "outputId": "451ec5f3-ccfe-4260-be3d-e0ca503481b5"
      },
      "cell_type": "code",
      "source": [
        "# test dims\n",
        "test_rnn = RNN(input_size=1, output_size=1, hidden_dim=10, n_layers=2)\n",
        "\n",
        "# generate evenly spaced test data points\n",
        "time_steps = np.linspace(0, np.pi, seq_length)\n",
        "data = np.sin(time_steps)\n",
        "data.resize((seq_length, 1))\n",
        "\n",
        "# give a batch_size of 1 as first dim\n",
        "test_input = torch.Tensor(data).unsqueeze(0)\n",
        "print('Input size:', test_input.size())\n",
        "\n",
        "# test out run siezes\n",
        "test_out, test_h = test_rnn(test_input, None)    # ([batch_size, seq_length, input num features])\n",
        "print('Output size', test_out.size())   # ([batch_size*seq_length, output_size])\n",
        "print('Hidden state size: ', test_h.size())   # ([n_layers, out_putsize, hidden_dim])"
      ],
      "execution_count": 7,
      "outputs": [
        {
          "output_type": "stream",
          "text": [
            "Input size: torch.Size([1, 20, 1])\n",
            "Output size torch.Size([20, 1])\n",
            "Hidden state size:  torch.Size([2, 1, 10])\n"
          ],
          "name": "stdout"
        }
      ]
    },
    {
      "metadata": {
        "id": "l1n2blM26d-7",
        "colab_type": "text"
      },
      "cell_type": "markdown",
      "source": [
        "### Training RNN"
      ]
    },
    {
      "metadata": {
        "id": "JcjKHFIk2PV6",
        "colab_type": "code",
        "colab": {
          "base_uri": "https://localhost:8080/",
          "height": 85
        },
        "outputId": "5d9ca6e6-f421-4309-a8a7-f094152c7005"
      },
      "cell_type": "code",
      "source": [
        "# hyperparameters\n",
        "input_size=1\n",
        "output_size=1\n",
        "hidden_dim=32\n",
        "n_layers=1\n",
        "\n",
        "# instantiate an RNN\n",
        "rnn = RNN(input_size, output_size, hidden_dim, n_layers)\n",
        "print(rnn)"
      ],
      "execution_count": 8,
      "outputs": [
        {
          "output_type": "stream",
          "text": [
            "RNN(\n",
            "  (rnn): RNN(1, 32, batch_first=True)\n",
            "  (fc): Linear(in_features=32, out_features=1, bias=True)\n",
            ")\n"
          ],
          "name": "stdout"
        }
      ]
    },
    {
      "metadata": {
        "id": "a9G3MgLa63DG",
        "colab_type": "text"
      },
      "cell_type": "markdown",
      "source": [
        "### Loss and optimization\n",
        "\n",
        "### Loss and Optimization\n",
        "\n",
        "This is a regression problem: can we train an RNN to accurately predict the next data point, given a current data point?\n",
        "> * The data points are coordinate values, so to compare a predicted and ground_truth point, we'll use a regression loss: the mean squared error.\n",
        "* It's typical to use an Adam optimizer for recurrent models."
      ]
    },
    {
      "metadata": {
        "id": "44sqn2b16zZq",
        "colab_type": "code",
        "colab": {}
      },
      "cell_type": "code",
      "source": [
        "#MSE loss and Adam optimizer with a learning rate of 0.01\n",
        "criterion = nn.MSELoss()\n",
        "optimizer = torch.optim.Adam(rnn.parameters(), lr=0.01)"
      ],
      "execution_count": 0,
      "outputs": []
    },
    {
      "metadata": {
        "id": "0XpcPdox-Kmg",
        "colab_type": "text"
      },
      "cell_type": "markdown",
      "source": [
        "### Defining the training function\n",
        "\n",
        "This function takes in an rnn, a number of steps to train for, and returns a trained rnn. This function is also responsible for displaying the loss and the predictions, every so often.\n",
        "\n",
        "#### Hidden State\n",
        "\n",
        "Pay close attention to the hidden state, here:\n",
        "* Before looping over a batch of training data, the hidden state is initialized\n",
        "* After a new hidden state is generated by the rnn, we get the latest hidden state, and use that as input to the rnn for the following steps"
      ]
    },
    {
      "metadata": {
        "id": "g4EPKxO5-ANT",
        "colab_type": "code",
        "colab": {}
      },
      "cell_type": "code",
      "source": [
        "# train RNN\n",
        "def train_rnn(rnn, n_steps, print_every):\n",
        "  \"\"\"Train RNN and return training loss\"\"\"\n",
        "  \n",
        "  # initialize the hidden state\n",
        "  hidden = None\n",
        "  \n",
        "  for batch_i, step in enumerate(range(n_steps)):\n",
        "    # defining the training data on the fly\n",
        "    time_steps = np.linspace(step * np.pi, (step + 1) * np.pi, seq_length + 1)\n",
        "    data = np.sin(time_steps)\n",
        "    # input_size = 1\n",
        "    data.resize((seq_length + 1, 1))\n",
        "    \n",
        "    x = data[:-1]\n",
        "    y = data[1:]\n",
        "    \n",
        "    # convert data into Tensors\n",
        "    x_tensor = torch.Tensor(x).unsqueeze(0)\n",
        "    y_tensor = torch.Tensor(y)\n",
        "    \n",
        "    # output from the rnn\n",
        "    prediction, hidden = rnn(x_tensor, hidden)\n",
        "    \n",
        "    # Representing Memory\n",
        "    # make a new variable for hidden and detach the hidden state from its history\n",
        "    # it will avoid backpropagating through the entire history\n",
        "    hidden = hidden.data\n",
        "    \n",
        "    # calculate the loss\n",
        "    loss = criterion(prediction, y_tensor)\n",
        "    # Zero gradient\n",
        "    optimizer.zero_grad()\n",
        "    # perform backprop and update weight\n",
        "    loss.backward()\n",
        "    optimizer.step()\n",
        "    \n",
        "    # display loss and predicitons\n",
        "    if batch_i % print_every == 0:\n",
        "      print('Loss: ', loss.item())\n",
        "      # input\n",
        "      plt.plot(time_steps[1:], x, 'r.')   \n",
        "      # prediction\n",
        "      plt.plot(time_steps[1:], prediction.data.numpy().flatten(), 'b.')\n",
        "      plt.show()\n",
        "      \n",
        "  return rnn\n",
        "           \n",
        "    \n",
        "    "
      ],
      "execution_count": 0,
      "outputs": []
    },
    {
      "metadata": {
        "id": "uvaF9UT6_ffy",
        "colab_type": "code",
        "colab": {
          "base_uri": "https://localhost:8080/",
          "height": 1342
        },
        "outputId": "ef2aaa21-014c-4a93-e8ae-99bfc9c52c98"
      },
      "cell_type": "code",
      "source": [
        "# Train the rnn and moitor results\n",
        "n_steps = 75\n",
        "print_every = 15\n",
        "\n",
        "trained_rnn = train_rnn(rnn, n_steps, print_every)"
      ],
      "execution_count": 11,
      "outputs": [
        {
          "output_type": "stream",
          "text": [
            "Loss:  0.6463488936424255\n"
          ],
          "name": "stdout"
        },
        {
          "output_type": "display_data",
          "data": {
            "image/png": "[encoded data removed]",
            "text/plain": [
              "<matplotlib.figure.Figure at 0x7fe66be05a58>"
            ]
          },
          "metadata": {
            "tags": []
          }
        },
        {
          "output_type": "stream",
          "text": [
            "Loss:  0.027645887807011604\n"
          ],
          "name": "stdout"
        },
        {
          "output_type": "display_data",
          "data": {
            "image/png": "[encoded data removed]",
            "text/plain": [
              "<matplotlib.figure.Figure at 0x7fe66a5c5f28>"
            ]
          },
          "metadata": {
            "tags": []
          }
        },
        {
          "output_type": "stream",
          "text": [
            "Loss:  0.008163757622241974\n"
          ],
          "name": "stdout"
        },
        {
          "output_type": "display_data",
          "data": {
            "image/png": "[encoded data removed]",
            "text/plain": [
              "<matplotlib.figure.Figure at 0x7fe66a5dbac8>"
            ]
          },
          "metadata": {
            "tags": []
          }
        },
        {
          "output_type": "stream",
          "text": [
            "Loss:  0.0004969568690285087\n"
          ],
          "name": "stdout"
        },
        {
          "output_type": "display_data",
          "data": {
            "image/png": "[encoded data removed]",
            "text/plain": [
              "<matplotlib.figure.Figure at 0x7fe66e633a58>"
            ]
          },
          "metadata": {
            "tags": []
          }
        },
        {
          "output_type": "stream",
          "text": [
            "Loss:  0.0003033490793313831\n"
          ],
          "name": "stdout"
        },
        {
          "output_type": "display_data",
          "data": {
            "image/png": "[encoded data removed]",
            "text/plain": [
              "<matplotlib.figure.Figure at 0x7fe66a59fba8>"
            ]
          },
          "metadata": {
            "tags": []
          }
        }
      ]
    },
    {
      "metadata": {
        "id": "u4Ko3NRZCQw0",
        "colab_type": "text"
      },
      "cell_type": "markdown",
      "source": [
        "### Time-Series Prediction\n",
        "\n",
        "Time-series prediction can be applied to many tasks. Think about weather forecasting or predicting the ebb and flow of stock market prices. You can even try to generate predictions much further in the future than just one time step!"
      ]
    },
    {
      "metadata": {
        "id": "8aKuJ5cGKYLc",
        "colab_type": "text"
      },
      "cell_type": "markdown",
      "source": [
        "### Character Wise RNN\n",
        "\n",
        "- We would pass the sequence into the RNN one character at a time\n",
        "- Predict the next character in the input sequence\n",
        "- The network will learn sequence of characters that will look like the original sequence\n"
      ]
    },
    {
      "metadata": {
        "id": "dxJ6vQywCQEC",
        "colab_type": "code",
        "colab": {}
      },
      "cell_type": "code",
      "source": [
        "from google.colab import files\n",
        "import os\n",
        "img_dir = '/tmp/nst'\n",
        "if not os.path.exists(img_dir):\n",
        "    os.makedirs(img_dir)"
      ],
      "execution_count": 0,
      "outputs": []
    },
    {
      "metadata": {
        "id": "sM69EjNoB5Yt",
        "colab_type": "code",
        "colab": {
          "resources": {
            "http://localhost:8080/nbextensions/google.colab/files.js": {
              "data": "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",
              "ok": true,
              "headers": [
                [
                  "content-type",
                  "application/javascript"
                ]
              ],
              "status": 200,
              "status_text": ""
            }
          },
          "base_uri": "https://localhost:8080/",
          "height": 35
        },
        "outputId": "95eb886d-9f01-4347-ff14-fa5f093da348"
      },
      "cell_type": "code",
      "source": [
        "# Load data\n",
        "data = files.upload()\n",
        "!ls /tmp/nst"
      ],
      "execution_count": 13,
      "outputs": [
        {
          "output_type": "display_data",
          "data": {
            "text/html": [
              "\n",
              "     <input type=\"file\" id=\"files-ea16b754-bf7e-45b0-aa1b-4e7ad2786e48\" name=\"files[]\" multiple disabled />\n",
              "     <output id=\"result-ea16b754-bf7e-45b0-aa1b-4e7ad2786e48\">\n",
              "      Upload widget is only available when the cell has been executed in the\n",
              "      current browser session. Please rerun this cell to enable.\n",
              "      </output>\n",
              "      <script src=\"/nbextensions/google.colab/files.js\"></script> "
            ],
            "text/plain": [
              "<IPython.core.display.HTML object>"
            ]
          },
          "metadata": {
            "tags": []
          }
        }
      ]
    },
    {
      "metadata": {
        "id": "1CYUje5UNMtS",
        "colab_type": "code",
        "colab": {
          "base_uri": "https://localhost:8080/",
          "height": 181
        },
        "outputId": "b6be190d-742f-4c3c-d4ac-b6ab2a3cb8c5"
      },
      "cell_type": "code",
      "source": [
        "# open text file and read in data as `text`\n",
        "with open('anna.txt', 'r') as f:\n",
        "    text = f.read()"
      ],
      "execution_count": 14,
      "outputs": [
        {
          "output_type": "error",
          "ename": "FileNotFoundError",
          "evalue": "ignored",
          "traceback": [
            "\u001b[0;31m---------------------------------------------------------------------------\u001b[0m",
            "\u001b[0;31mFileNotFoundError\u001b[0m                         Traceback (most recent call last)",
            "\u001b[0;32m<ipython-input-14-1243edc58ce6>\u001b[0m in \u001b[0;36m<module>\u001b[0;34m()\u001b[0m\n\u001b[0;32m----> 1\u001b[0;31m \u001b[0;32mwith\u001b[0m \u001b[0mopen\u001b[0m\u001b[0;34m(\u001b[0m\u001b[0;34m'anna.txt'\u001b[0m\u001b[0;34m,\u001b[0m \u001b[0;34m'r'\u001b[0m\u001b[0;34m)\u001b[0m \u001b[0;32mas\u001b[0m \u001b[0mf\u001b[0m\u001b[0;34m:\u001b[0m\u001b[0;34m\u001b[0m\u001b[0;34m\u001b[0m\u001b[0m\n\u001b[0m\u001b[1;32m      2\u001b[0m     \u001b[0mtext\u001b[0m \u001b[0;34m=\u001b[0m \u001b[0mf\u001b[0m\u001b[0;34m.\u001b[0m\u001b[0mread\u001b[0m\u001b[0;34m(\u001b[0m\u001b[0;34m)\u001b[0m\u001b[0;34m\u001b[0m\u001b[0;34m\u001b[0m\u001b[0m\n",
            "\u001b[0;31mFileNotFoundError\u001b[0m: [Errno 2] No such file or directory: 'anna.txt'"
          ]
        }
      ]
    },
    {
      "metadata": {
        "id": "HxWjQiimOO6v",
        "colab_type": "code",
        "colab": {}
      },
      "cell_type": "code",
      "source": [
        "print(text[:100])\n",
        "tuple(set(text[:20]))"
      ],
      "execution_count": 0,
      "outputs": []
    },
    {
      "metadata": {
        "id": "7dqI5Ns-QmZ7",
        "colab_type": "text"
      },
      "cell_type": "markdown",
      "source": [
        "### Tokenization"
      ]
    },
    {
      "metadata": {
        "id": "V5gyBQxZOpMn",
        "colab_type": "code",
        "colab": {}
      },
      "cell_type": "code",
      "source": [
        "# Encode the next text and map each character to an integer and vice versa\n",
        "\n",
        "# Create two dicts:\n",
        "# 1. int-to-char (vocabulary), whcih maps integer to characters\n",
        "# 2. char-to-int, whic maps characters to unique integers\n",
        "chars = tuple(set(text))   # get unique chars\n",
        "int2char = dict(enumerate(chars))\n",
        "# int2char\n",
        "char2int = {ch: ii for ii, ch in int2char.items()}\n",
        "# char2int\n",
        "\n",
        "# encode the text\n",
        "encoded = np.array([char2int[ch] for ch in text])\n",
        "# encoded"
      ],
      "execution_count": 0,
      "outputs": []
    },
    {
      "metadata": {
        "id": "sO100JvmTdQ5",
        "colab_type": "code",
        "colab": {}
      },
      "cell_type": "code",
      "source": [
        "# print out the first 100 char encoding\n",
        "encoded[:100]"
      ],
      "execution_count": 0,
      "outputs": []
    },
    {
      "metadata": {
        "id": "PZfse326TpcX",
        "colab_type": "text"
      },
      "cell_type": "markdown",
      "source": [
        "### Pre-processing the data\n",
        "\n",
        "As you can see in our char-RNN image above, our LSTM expects an input that is **one-hot encoded** meaning that each character is converted into an integer (via our created dictionary) and *then* converted into a column vector where only it's corresponding integer index will have the value of 1 and the rest of the vector will be filled with 0's. Since we're one-hot encoding the data, let's make a function to do that!\n"
      ]
    },
    {
      "metadata": {
        "id": "X-T3mp6lRnEM",
        "colab_type": "code",
        "colab": {}
      },
      "cell_type": "code",
      "source": [
        "def one_hot_encode(arr, n_labels):\n",
        "  \"\"\"Returns one-hot-enoded version of the tokens\"\"\"\n",
        "  \n",
        "  # Initialize the encoded array\n",
        "  one_hot = np.zeros((np.multiply(*arr.shape), n_labels), dtype=np.float32)\n",
        "  print('arr flatten', arr.flatten())\n",
        "  print(one_hot[np.arange(one_hot.shape[0]), arr.flatten()] )\n",
        "  # Fill the appropriate elements with ones\n",
        "  one_hot[np.arange(one_hot.shape[0]), arr.flatten()] = 1.\n",
        "  print(one_hot)\n",
        "  # Reshape it to get back the original array\n",
        "  one_hot = one_hot.reshape((*arr.shape, n_labels))\n",
        "  \n",
        "  return one_hot"
      ],
      "execution_count": 0,
      "outputs": []
    },
    {
      "metadata": {
        "id": "bCdfD_EHVsKs",
        "colab_type": "code",
        "colab": {
          "base_uri": "https://localhost:8080/",
          "height": 153
        },
        "outputId": "e14e0c80-e018-4ada-ea90-72b6e1bbb0a7"
      },
      "cell_type": "code",
      "source": [
        "# Check the function\n",
        "test_seq = np.array([[3, 5, 1]])\n",
        "# test_seq.shape\n",
        "one_hot = one_hot_encode(test_seq, 8)\n",
        "\n",
        "print(one_hot)"
      ],
      "execution_count": 34,
      "outputs": [
        {
          "output_type": "stream",
          "text": [
            "arr flatten [3 5 1]\n",
            "[0. 0. 0.]\n",
            "[[0. 0. 0. 1. 0. 0. 0. 0.]\n",
            " [0. 0. 0. 0. 0. 1. 0. 0.]\n",
            " [0. 1. 0. 0. 0. 0. 0. 0.]]\n",
            "[[[0. 0. 0. 1. 0. 0. 0. 0.]\n",
            "  [0. 0. 0. 0. 0. 1. 0. 0.]\n",
            "  [0. 1. 0. 0. 0. 0. 0. 0.]]]\n"
          ],
          "name": "stdout"
        }
      ]
    },
    {
      "metadata": {
        "id": "PX17UvunXlf8",
        "colab_type": "text"
      },
      "cell_type": "markdown",
      "source": [
        "## Making training mini-batches\n",
        "\n",
        "### Creating Batches\n",
        "\n",
        "**1. The first thing we need to do is discard some of the text so we only have completely full mini-batches. **\n",
        "\n",
        "Each batch contains $N \\times M$ characters, where $N$ is the batch size (the number of sequences in a batch) and $M$ is the seq_length or number of time steps in a sequence. Then, to get the total number of batches, $K$, that we can make from the array `arr`, you divide the length of `arr` by the number of characters per batch. Once you know the number of batches, you can get the total number of characters to keep from `arr`, $N * M * K$.\n",
        "\n",
        "**2. After that, we need to split `arr` into $N$ batches. ** \n",
        "\n",
        "You can do this using `arr.reshape(size)` where `size` is a tuple containing the dimensions sizes of the reshaped array. We know we want $N$ sequences in a batch, so let's make that the size of the first dimension. For the second dimension, you can use `-1` as a placeholder in the size, it'll fill up the array with the appropriate data for you. After this, you should have an array that is $N \\times (M * K)$.\n",
        "\n",
        "**3. Now that we have this array, we can iterate through it to get our mini-batches. **\n",
        "\n",
        "The idea is each batch is a $N \\times M$ window on the $N \\times (M * K)$ array. For each subsequent batch, the window moves over by `seq_length`. We also want to create both the input and target arrays. Remember that the targets are just the inputs shifted over by one character. The way I like to do this window is use `range` to take steps of size `n_steps` from $0$ to `arr.shape[1]`, the total number of tokens in each sequence. That way, the integers you get from `range` always point to the start of a batch, and each window is `seq_length` wide.\n",
        "\n"
      ]
    },
    {
      "metadata": {
        "id": "y6Kfdi_fWLle",
        "colab_type": "code",
        "colab": {}
      },
      "cell_type": "code",
      "source": [
        "def get_batches(arr, batch_size, seq_length):\n",
        "  \"\"\"Create a generator that returns batches of size\n",
        "  batch_sze x seq_length from arr\n",
        "  \n",
        "  Args:\n",
        "    arr: Input array to make batches  \n",
        "    batch_size: Batch size, the number of sequence per batch\n",
        "    aeq_length: Number of encoded chars in a seuence\n",
        "    \n",
        "  Returns:\n",
        "    Batch\n",
        "  \n",
        "  \"\"\"\n",
        "  \n",
        "  # get the num of char in one complete mini-batch\n",
        "  batch_size_total = batch_size * seq_length\n",
        "  \n",
        "  # total number of complete batche we can make\n",
        "  n_batches = len(arr)//batch_size_total\n",
        "  \n",
        "  # keep only enough characters to make full batches\n",
        "  arr = arr[:n_batches * batch_size_total]\n",
        "  # reshapr into bacth_size rows\n",
        "  arr = arr.reshape((batch_size, -1))\n",
        "  \n",
        "  # iterate through the array, one sequence at a time\n",
        "  for n in range(0, arr.shape[1], seq_length):\n",
        "    # num of features\n",
        "    x = arr[:, n:n+seq_length]\n",
        "    # get rargets, shifted by one-- next char\n",
        "    y = np.zeros_like(x)\n",
        "    try:\n",
        "      y[:, :-1], y[:, -1] = x[:, 1:], arr[:, n+seq_length]\n",
        "    except IndexError:\n",
        "      y[:, :-1], y[:, -1] = x[:, 1:], arr[:, 0]\n",
        "    yield x, y\n",
        "      \n",
        "    "
      ],
      "execution_count": 0,
      "outputs": []
    },
    {
      "metadata": {
        "id": "jwKy_v07gY1H",
        "colab_type": "code",
        "colab": {}
      },
      "cell_type": "code",
      "source": [
        "# Test the mini-batch implimentation\n",
        "batches = get_batches(encoded, 8, 50)\n",
        "x, y = next(batches)"
      ],
      "execution_count": 0,
      "outputs": []
    },
    {
      "metadata": {
        "id": "jusK8rScgia8",
        "colab_type": "code",
        "colab": {
          "base_uri": "https://localhost:8080/",
          "height": 340
        },
        "outputId": "54047dee-7fe5-43c5-9804-b54fc3953b49"
      },
      "cell_type": "code",
      "source": [
        "# check if x and y values are shifted by 1 char\n",
        "print('x: \\n', x[:10, :10])\n",
        "print('\\ny: \\n', y[:10, :10])"
      ],
      "execution_count": 56,
      "outputs": [
        {
          "output_type": "stream",
          "text": [
            "x: \n",
            " [[70 72 15 39 17  7 81 55 59 37]\n",
            " [46 11 73 55 17 72 15 17 55 15]\n",
            " [ 7 73 47 55 11 81 55 15 55 51]\n",
            " [46 55 17 72  7 55 68 72 32  7]\n",
            " [55 46 15 23 55 72  7 81 55 17]\n",
            " [68 34 46 46 32 11 73 55 15 73]\n",
            " [55 54 73 73 15 55 72 15 47 55]\n",
            " [10 78 71 11 73 46  4 43 44 55]]\n",
            "\n",
            "y: \n",
            " [[72 15 39 17  7 81 55 59 37 37]\n",
            " [11 73 55 17 72 15 17 55 15 17]\n",
            " [73 47 55 11 81 55 15 55 51 11]\n",
            " [55 17 72  7 55 68 72 32  7 51]\n",
            " [46 15 23 55 72  7 81 55 17  7]\n",
            " [34 46 46 32 11 73 55 15 73 47]\n",
            " [54 73 73 15 55 72 15 47 55 46]\n",
            " [78 71 11 73 46  4 43 44 55  1]]\n"
          ],
          "name": "stdout"
        }
      ]
    },
    {
      "metadata": {
        "id": "l3c9CTP2ifCH",
        "colab_type": "text"
      },
      "cell_type": "markdown",
      "source": [
        "---\n",
        "### LSTM Inputs/Outputs\n",
        "\n",
        "You can create a basic [LSTM layer](https://pytorch.org/docs/stable/nn.html#lstm) as follows\n",
        "\n",
        "```python\n",
        "self.lstm = nn.LSTM(input_size, n_hidden, n_layers, \n",
        "                            dropout=drop_prob, batch_first=True)\n",
        "```\n",
        "\n",
        "where `input_size` is the number of characters this cell expects to see as sequential input, and `n_hidden` is the number of units in the hidden layers in the cell. And we can add dropout by adding a dropout parameter with a specified probability; this will automatically add dropout to the inputs or outputs. Finally, in the `forward` function, we can stack up the LSTM cells into layers using `.view`. With this, you pass in a list of cells and it will send the output of one cell into the next cell.\n",
        "\n",
        "We also need to create an initial hidden state of all zeros. This is done like so\n",
        "\n",
        "```python\n",
        "self.init_hidden()\n",
        "```"
      ]
    },
    {
      "metadata": {
        "id": "P-O-JkLThBHJ",
        "colab_type": "code",
        "colab": {
          "base_uri": "https://localhost:8080/",
          "height": 34
        },
        "outputId": "d852f3d8-1615-4ee5-fd09-4579e83f3173"
      },
      "cell_type": "code",
      "source": [
        "# check if GPU is available\n",
        "train_on_gpu = torch.cuda.is_available()\n",
        "if(train_on_gpu):\n",
        "    print('Training on GPU!')\n",
        "else: \n",
        "    print('No GPU available, training on CPU; consider making n_epochs very small.')"
      ],
      "execution_count": 55,
      "outputs": [
        {
          "output_type": "stream",
          "text": [
            "Training on GPU!\n"
          ],
          "name": "stdout"
        }
      ]
    },
    {
      "metadata": {
        "id": "NDABMEu7ikK9",
        "colab_type": "code",
        "colab": {}
      },
      "cell_type": "code",
      "source": [
        "class CharRNN(nn.Module):\n",
        "  \n",
        "  def __init__(self, tokens, n_hidden=256, n_layers=2, \n",
        "              drop_prob=0.5, lr=0.001):\n",
        "    super().__init__()\n",
        "    self.drop_prob = drop_prob\n",
        "    self.n_layers = n_layers\n",
        "    self.n_hidden = n_hidden\n",
        "    self.lr = lr\n",
        "    \n",
        "    # character dictionaries\n",
        "    self.chars = tokens\n",
        "    self.int2char = dict(enumerate(self.chars))\n",
        "    self.char2int = {ch: ii for ii, ch in self.int2char.items()}\n",
        "    \n",
        "    # define the layers\n",
        "    self.lstm = nn.LSTM(len(self.chars), n_hidden, n_layers, \n",
        "                       dropout=drop_prob, batch_first=True)\n",
        "    # define a dropout layer\n",
        "    self.dropout = nn.Dropout(drop_prob)\n",
        "    self.fc = nn.Linear(n_hidden, len(self.chars))\n",
        "    \n",
        "    # define the final, fully-connected output layer\n",
        "    self.lstm = nn.LSTM(len(self.chars), n_hidden, n_layers, \n",
        "                            dropout=drop_prob, batch_first=True)\n",
        "    \n",
        "  def forward(self, x, hidden):\n",
        "    \"\"\" Forward pass through the network. \n",
        "    These inputs are x, and the hidden/cell state 'hidden'\n",
        "      \n",
        "    \"\"\"\n",
        "    # get the outputs and the new hidden state from the lstm\n",
        "    r_output, hidden = self.lstm(x, hidden)\n",
        "        \n",
        "    # pass through a dropout layer\n",
        "    out = self.dropout(r_output)\n",
        "        \n",
        "        \n",
        "    # Stack up LSTM outputs using view\n",
        "    # you may need to use contiguous to reshape the output\n",
        "    out = out.contiguous().view(-1, self.n_hidden)\n",
        "        \n",
        "    ## TODO: put x through the fully-connected layer\n",
        "    out = self.fc(out)\n",
        "      \n",
        "    return out, hidden \n",
        "    \n",
        "  def init_hidden(self, batch_size):\n",
        "    \n",
        "    \"\"\"Initialie hidden state\"\"\"\n",
        "    # create two net tensors with sizes n_layers x batch_size x n_hidden,\n",
        "    # initialied to zero, for hidden state and cell state of LSTM\n",
        "    weight = next(self.parameters()).data\n",
        "      \n",
        "    if (train_on_gpu):\n",
        "      hidden = (weight.new(self.n_layers, batch_size, self.n_hidden).zero_().cuda(),\n",
        "                  weight.new(self.n_layers, batch_size, self.n_hidden).zero_().cuda())\n",
        "    else:\n",
        "      (weight.new(self.n_layers, batch_size, self.n_hidden).zero_(),\n",
        "      weight.new(self.n_layers, batch_size, self.n_hidden).zero_())\n",
        "          \n",
        "    return hidden \n",
        "  \n",
        "    "
      ],
      "execution_count": 0,
      "outputs": []
    },
    {
      "metadata": {
        "id": "RaYj4joRtcK1",
        "colab_type": "text"
      },
      "cell_type": "markdown",
      "source": [
        "## Train\n",
        "\n",
        "The train function gives us the ability to set the number of epochs, the learning rate, and other parameters.\n",
        "\n",
        "Below we're using an Adam optimizer and cross entropy loss since we are looking at character class scores as output. We calculate the loss and perform backpropagation, as usual!\n",
        "\n",
        "A couple of details about training: \n",
        ">* Within the batch loop, we detach the hidden state from its history; this time setting it equal to a new *tuple* variable because an LSTM has a hidden state that is a tuple of the hidden and cell states.\n",
        "* We use [`clip_grad_norm_`](https://pytorch.org/docs/stable/_modules/torch/nn/utils/clip_grad.html) to help prevent exploding gradients."
      ]
    },
    {
      "metadata": {
        "id": "tZX4LItiroiW",
        "colab_type": "code",
        "colab": {}
      },
      "cell_type": "code",
      "source": [
        "def train(net, data, epochs=10, batch_size=10, seq_length=50, lr=0.001, clip=5, val_frac=0.1, print_every=10):\n",
        "    ''' Training a network \n",
        "    \n",
        "        Arguments\n",
        "        ---------\n",
        "        \n",
        "        net: CharRNN network\n",
        "        data: text data to train the network\n",
        "        epochs: Number of epochs to train\n",
        "        batch_size: Number of mini-sequences per mini-batch, aka batch size\n",
        "        seq_length: Number of character steps per mini-batch\n",
        "        lr: learning rate\n",
        "        clip: gradient clipping\n",
        "        val_frac: Fraction of data to hold out for validation\n",
        "        print_every: Number of steps for printing training and validation loss\n",
        "    \n",
        "    '''\n",
        "    net.train()\n",
        "    \n",
        "    opt = torch.optim.Adam(net.parameters(), lr=lr)\n",
        "    criterion = nn.CrossEntropyLoss()\n",
        "    \n",
        "    # create training and validation data\n",
        "    val_idx = int(len(data)*(1-val_frac))\n",
        "    data, val_data = data[:val_idx], data[val_idx:]\n",
        "    \n",
        "    if(train_on_gpu):\n",
        "        net.cuda()\n",
        "    \n",
        "    counter = 0\n",
        "    n_chars = len(net.chars)\n",
        "    for e in range(epochs):\n",
        "        # initialize hidden state\n",
        "        h = net.init_hidden(batch_size)\n",
        "        \n",
        "        for x, y in get_batches(data, batch_size, seq_length):\n",
        "            counter += 1\n",
        "            \n",
        "            # One-hot encode our data and make them Torch tensors\n",
        "            x = one_hot_encode(x, n_chars)\n",
        "            inputs, targets = torch.from_numpy(x), torch.from_numpy(y)\n",
        "            \n",
        "            if(train_on_gpu):\n",
        "                inputs, targets = inputs.cuda(), targets.cuda()\n",
        "\n",
        "            # Creating new variables for the hidden state, otherwise\n",
        "            # we'd backprop through the entire training history\n",
        "            h = tuple([each.data for each in h])\n",
        "\n",
        "            # zero accumulated gradients\n",
        "            net.zero_grad()\n",
        "            \n",
        "            # get the output from the model\n",
        "            output, h = net(inputs, h)\n",
        "            \n",
        "            # calculate the loss and perform backprop\n",
        "            loss = criterion(output, targets.view(batch_size*seq_length))\n",
        "            loss.backward()\n",
        "            # `clip_grad_norm` helps prevent the exploding gradient problem in RNNs / LSTMs.\n",
        "            nn.utils.clip_grad_norm_(net.parameters(), clip)\n",
        "            opt.step()\n",
        "            \n",
        "            # loss stats\n",
        "            if counter % print_every == 0:\n",
        "                # Get validation loss\n",
        "                val_h = net.init_hidden(batch_size)\n",
        "                val_losses = []\n",
        "                net.eval()\n",
        "                for x, y in get_batches(val_data, batch_size, seq_length):\n",
        "                    # One-hot encode our data and make them Torch tensors\n",
        "                    x = one_hot_encode(x, n_chars)\n",
        "                    x, y = torch.from_numpy(x), torch.from_numpy(y)\n",
        "                    \n",
        "                    # Creating new variables for the hidden state, otherwise\n",
        "                    # we'd backprop through the entire training history\n",
        "                    val_h = tuple([each.data for each in val_h])\n",
        "                    \n",
        "                    inputs, targets = x, y\n",
        "                    if(train_on_gpu):\n",
        "                        inputs, targets = inputs.cuda(), targets.cuda()\n",
        "\n",
        "                    output, val_h = net(inputs, val_h)\n",
        "                    val_loss = criterion(output, targets.view(batch_size*seq_length))\n",
        "                \n",
        "                    val_losses.append(val_loss.item())\n",
        "                \n",
        "                net.train() # reset to train mode after iterationg through validation data\n",
        "                \n",
        "                print(\"Epoch: {}/{}...\".format(e+1, epochs),\n",
        "                      \"Step: {}...\".format(counter),\n",
        "                      \"Loss: {:.4f}...\".format(loss.item()),\n",
        "                      \"Val Loss: {:.4f}\".format(np.mean(val_losses)))\n"
      ],
      "execution_count": 0,
      "outputs": []
    },
    {
      "metadata": {
        "id": "iNN3C5QNufrq",
        "colab_type": "text"
      },
      "cell_type": "markdown",
      "source": [
        "## Instantiating the model\n",
        "\n",
        "Now we can actually train the network. First we'll create the network itself, with some given hyperparameters. Then, define the mini-batches sizes, and start training!"
      ]
    },
    {
      "metadata": {
        "id": "iA73sKDjtaMc",
        "colab_type": "code",
        "colab": {
          "base_uri": "https://localhost:8080/",
          "height": 102
        },
        "outputId": "859e9708-1376-4d29-bdb9-e8555bd200df"
      },
      "cell_type": "code",
      "source": [
        "# define and print the net\n",
        "n_hidden=512\n",
        "n_layers=2\n",
        "\n",
        "net = CharRNN(chars, n_hidden, n_layers)\n",
        "print(net)"
      ],
      "execution_count": 72,
      "outputs": [
        {
          "output_type": "stream",
          "text": [
            "CharRNN(\n",
            "  (lstm): LSTM(83, 512, num_layers=2, batch_first=True, dropout=0.5)\n",
            "  (dropout): Dropout(p=0.5)\n",
            "  (fc): Linear(in_features=512, out_features=83, bias=True)\n",
            ")\n"
          ],
          "name": "stdout"
        }
      ]
    },
    {
      "metadata": {
        "id": "E3OL1jKAuijn",
        "colab_type": "code",
        "colab": {
          "base_uri": "https://localhost:8080/",
          "height": 4743
        },
        "outputId": "a8f2500b-c8af-4f36-b7f7-f3d3d93d95f1"
      },
      "cell_type": "code",
      "source": [
        "batch_size = 128\n",
        "seq_length = 100\n",
        "n_epochs = 20 # start smaller if you are just testing initial behavior\n",
        "\n",
        "# train the model\n",
        "train(net, encoded, epochs=n_epochs, batch_size=batch_size, seq_length=seq_length, lr=0.001, print_every=10)"
      ],
      "execution_count": 73,
      "outputs": [
        {
          "output_type": "stream",
          "text": [
            "Epoch: 1/20... Step: 10... Loss: 3.2655... Val Loss: 3.2052\n",
            "Epoch: 1/20... Step: 20... Loss: 3.1530... Val Loss: 3.1363\n",
            "Epoch: 1/20... Step: 30... Loss: 3.1428... Val Loss: 3.1224\n",
            "Epoch: 1/20... Step: 40... Loss: 3.1151... Val Loss: 3.1191\n",
            "Epoch: 1/20... Step: 50... Loss: 3.1415... Val Loss: 3.1176\n",
            "Epoch: 1/20... Step: 60... Loss: 3.1177... Val Loss: 3.1153\n",
            "Epoch: 1/20... Step: 70... Loss: 3.1036... Val Loss: 3.1128\n",
            "Epoch: 1/20... Step: 80... Loss: 3.1165... Val Loss: 3.1067\n",
            "Epoch: 1/20... Step: 90... Loss: 3.1073... Val Loss: 3.0911\n",
            "Epoch: 1/20... Step: 100... Loss: 3.0673... Val Loss: 3.0542\n",
            "Epoch: 1/20... Step: 110... Loss: 3.0478... Val Loss: 3.0243\n",
            "Epoch: 1/20... Step: 120... Loss: 2.9348... Val Loss: 2.9195\n",
            "Epoch: 1/20... Step: 130... Loss: 2.8495... Val Loss: 2.8203\n",
            "Epoch: 2/20... Step: 140... Loss: 2.7682... Val Loss: 2.7276\n",
            "Epoch: 2/20... Step: 150... Loss: 2.6524... Val Loss: 2.6140\n",
            "Epoch: 2/20... Step: 160... Loss: 2.5741... Val Loss: 2.5434\n",
            "Epoch: 2/20... Step: 170... Loss: 2.5061... Val Loss: 2.4876\n",
            "Epoch: 2/20... Step: 180... Loss: 2.4680... Val Loss: 2.4487\n",
            "Epoch: 2/20... Step: 190... Loss: 2.4143... Val Loss: 2.4127\n",
            "Epoch: 2/20... Step: 200... Loss: 2.4131... Val Loss: 2.3833\n",
            "Epoch: 2/20... Step: 210... Loss: 2.3857... Val Loss: 2.3629\n",
            "Epoch: 2/20... Step: 220... Loss: 2.3508... Val Loss: 2.3282\n",
            "Epoch: 2/20... Step: 230... Loss: 2.3351... Val Loss: 2.3099\n",
            "Epoch: 2/20... Step: 240... Loss: 2.3187... Val Loss: 2.2779\n",
            "Epoch: 2/20... Step: 250... Loss: 2.2532... Val Loss: 2.2554\n",
            "Epoch: 2/20... Step: 260... Loss: 2.2340... Val Loss: 2.2287\n",
            "Epoch: 2/20... Step: 270... Loss: 2.2279... Val Loss: 2.2021\n",
            "Epoch: 3/20... Step: 280... Loss: 2.2246... Val Loss: 2.1803\n",
            "Epoch: 3/20... Step: 290... Loss: 2.1927... Val Loss: 2.1539\n",
            "Epoch: 3/20... Step: 300... Loss: 2.1609... Val Loss: 2.1348\n",
            "Epoch: 3/20... Step: 310... Loss: 2.1458... Val Loss: 2.1139\n",
            "Epoch: 3/20... Step: 320... Loss: 2.1212... Val Loss: 2.0965\n",
            "Epoch: 3/20... Step: 330... Loss: 2.0845... Val Loss: 2.0732\n",
            "Epoch: 3/20... Step: 340... Loss: 2.1022... Val Loss: 2.0541\n",
            "Epoch: 3/20... Step: 350... Loss: 2.0849... Val Loss: 2.0403\n",
            "Epoch: 3/20... Step: 360... Loss: 2.0148... Val Loss: 2.0228\n",
            "Epoch: 3/20... Step: 370... Loss: 2.0462... Val Loss: 2.0058\n",
            "Epoch: 3/20... Step: 380... Loss: 2.0133... Val Loss: 1.9893\n",
            "Epoch: 3/20... Step: 390... Loss: 1.9904... Val Loss: 1.9753\n",
            "Epoch: 3/20... Step: 400... Loss: 1.9652... Val Loss: 1.9548\n",
            "Epoch: 3/20... Step: 410... Loss: 1.9779... Val Loss: 1.9448\n",
            "Epoch: 4/20... Step: 420... Loss: 1.9583... Val Loss: 1.9285\n",
            "Epoch: 4/20... Step: 430... Loss: 1.9483... Val Loss: 1.9132\n",
            "Epoch: 4/20... Step: 440... Loss: 1.9396... Val Loss: 1.9094\n",
            "Epoch: 4/20... Step: 450... Loss: 1.8768... Val Loss: 1.8891\n",
            "Epoch: 4/20... Step: 460... Loss: 1.8767... Val Loss: 1.8761\n",
            "Epoch: 4/20... Step: 470... Loss: 1.8992... Val Loss: 1.8679\n",
            "Epoch: 4/20... Step: 480... Loss: 1.8798... Val Loss: 1.8559\n",
            "Epoch: 4/20... Step: 490... Loss: 1.8793... Val Loss: 1.8400\n",
            "Epoch: 4/20... Step: 500... Loss: 1.8723... Val Loss: 1.8315\n",
            "Epoch: 4/20... Step: 510... Loss: 1.8600... Val Loss: 1.8186\n",
            "Epoch: 4/20... Step: 520... Loss: 1.8655... Val Loss: 1.8128\n",
            "Epoch: 4/20... Step: 530... Loss: 1.8223... Val Loss: 1.7986\n",
            "Epoch: 4/20... Step: 540... Loss: 1.7906... Val Loss: 1.7938\n",
            "Epoch: 4/20... Step: 550... Loss: 1.8356... Val Loss: 1.7777\n",
            "Epoch: 5/20... Step: 560... Loss: 1.7953... Val Loss: 1.7709\n",
            "Epoch: 5/20... Step: 570... Loss: 1.7789... Val Loss: 1.7593\n",
            "Epoch: 5/20... Step: 580... Loss: 1.7581... Val Loss: 1.7534\n",
            "Epoch: 5/20... Step: 590... Loss: 1.7634... Val Loss: 1.7410\n",
            "Epoch: 5/20... Step: 600... Loss: 1.7473... Val Loss: 1.7356\n",
            "Epoch: 5/20... Step: 610... Loss: 1.7322... Val Loss: 1.7273\n",
            "Epoch: 5/20... Step: 620... Loss: 1.7376... Val Loss: 1.7205\n",
            "Epoch: 5/20... Step: 630... Loss: 1.7438... Val Loss: 1.7181\n",
            "Epoch: 5/20... Step: 640... Loss: 1.7195... Val Loss: 1.7083\n",
            "Epoch: 5/20... Step: 650... Loss: 1.7078... Val Loss: 1.6978\n",
            "Epoch: 5/20... Step: 660... Loss: 1.6785... Val Loss: 1.6920\n",
            "Epoch: 5/20... Step: 670... Loss: 1.7095... Val Loss: 1.6862\n",
            "Epoch: 5/20... Step: 680... Loss: 1.7065... Val Loss: 1.6759\n",
            "Epoch: 5/20... Step: 690... Loss: 1.6789... Val Loss: 1.6706\n",
            "Epoch: 6/20... Step: 700... Loss: 1.6784... Val Loss: 1.6638\n",
            "Epoch: 6/20... Step: 710... Loss: 1.6704... Val Loss: 1.6580\n",
            "Epoch: 6/20... Step: 720... Loss: 1.6534... Val Loss: 1.6471\n",
            "Epoch: 6/20... Step: 730... Loss: 1.6702... Val Loss: 1.6419\n",
            "Epoch: 6/20... Step: 740... Loss: 1.6410... Val Loss: 1.6379\n",
            "Epoch: 6/20... Step: 750... Loss: 1.6143... Val Loss: 1.6317\n",
            "Epoch: 6/20... Step: 760... Loss: 1.6602... Val Loss: 1.6276\n",
            "Epoch: 6/20... Step: 770... Loss: 1.6398... Val Loss: 1.6236\n",
            "Epoch: 6/20... Step: 780... Loss: 1.6133... Val Loss: 1.6185\n",
            "Epoch: 6/20... Step: 790... Loss: 1.6194... Val Loss: 1.6120\n",
            "Epoch: 6/20... Step: 800... Loss: 1.6291... Val Loss: 1.6078\n",
            "Epoch: 6/20... Step: 810... Loss: 1.6060... Val Loss: 1.6035\n",
            "Epoch: 6/20... Step: 820... Loss: 1.5759... Val Loss: 1.5973\n",
            "Epoch: 6/20... Step: 830... Loss: 1.6294... Val Loss: 1.5933\n",
            "Epoch: 7/20... Step: 840... Loss: 1.5712... Val Loss: 1.5908\n",
            "Epoch: 7/20... Step: 850... Loss: 1.5974... Val Loss: 1.5828\n",
            "Epoch: 7/20... Step: 860... Loss: 1.5738... Val Loss: 1.5776\n",
            "Epoch: 7/20... Step: 870... Loss: 1.5840... Val Loss: 1.5712\n",
            "Epoch: 7/20... Step: 880... Loss: 1.5857... Val Loss: 1.5703\n",
            "Epoch: 7/20... Step: 890... Loss: 1.5737... Val Loss: 1.5675\n",
            "Epoch: 7/20... Step: 900... Loss: 1.5670... Val Loss: 1.5637\n",
            "Epoch: 7/20... Step: 910... Loss: 1.5291... Val Loss: 1.5593\n",
            "Epoch: 7/20... Step: 920... Loss: 1.5476... Val Loss: 1.5532\n",
            "Epoch: 7/20... Step: 930... Loss: 1.5371... Val Loss: 1.5478\n",
            "Epoch: 7/20... Step: 940... Loss: 1.5436... Val Loss: 1.5481\n",
            "Epoch: 7/20... Step: 950... Loss: 1.5610... Val Loss: 1.5413\n",
            "Epoch: 7/20... Step: 960... Loss: 1.5502... Val Loss: 1.5395\n",
            "Epoch: 7/20... Step: 970... Loss: 1.5570... Val Loss: 1.5371\n",
            "Epoch: 8/20... Step: 980... Loss: 1.5270... Val Loss: 1.5331\n",
            "Epoch: 8/20... Step: 990... Loss: 1.5325... Val Loss: 1.5291\n",
            "Epoch: 8/20... Step: 1000... Loss: 1.5337... Val Loss: 1.5210\n",
            "Epoch: 8/20... Step: 1010... Loss: 1.5579... Val Loss: 1.5192\n",
            "Epoch: 8/20... Step: 1020... Loss: 1.5330... Val Loss: 1.5152\n",
            "Epoch: 8/20... Step: 1030... Loss: 1.5078... Val Loss: 1.5126\n",
            "Epoch: 8/20... Step: 1040... Loss: 1.5128... Val Loss: 1.5144\n",
            "Epoch: 8/20... Step: 1050... Loss: 1.4933... Val Loss: 1.5069\n",
            "Epoch: 8/20... Step: 1060... Loss: 1.4990... Val Loss: 1.5047\n",
            "Epoch: 8/20... Step: 1070... Loss: 1.5030... Val Loss: 1.5007\n",
            "Epoch: 8/20... Step: 1080... Loss: 1.4985... Val Loss: 1.5001\n",
            "Epoch: 8/20... Step: 1090... Loss: 1.4865... Val Loss: 1.4964\n",
            "Epoch: 8/20... Step: 1100... Loss: 1.4794... Val Loss: 1.4884\n",
            "Epoch: 8/20... Step: 1110... Loss: 1.4860... Val Loss: 1.4882\n",
            "Epoch: 9/20... Step: 1120... Loss: 1.5002... Val Loss: 1.4872\n",
            "Epoch: 9/20... Step: 1130... Loss: 1.4891... Val Loss: 1.4859\n",
            "Epoch: 9/20... Step: 1140... Loss: 1.4945... Val Loss: 1.4793\n",
            "Epoch: 9/20... Step: 1150... Loss: 1.5049... Val Loss: 1.4797\n",
            "Epoch: 9/20... Step: 1160... Loss: 1.4604... Val Loss: 1.4753\n",
            "Epoch: 9/20... Step: 1170... Loss: 1.4631... Val Loss: 1.4751\n",
            "Epoch: 9/20... Step: 1180... Loss: 1.4610... Val Loss: 1.4726\n",
            "Epoch: 9/20... Step: 1190... Loss: 1.4907... Val Loss: 1.4677\n",
            "Epoch: 9/20... Step: 1200... Loss: 1.4401... Val Loss: 1.4656\n",
            "Epoch: 9/20... Step: 1210... Loss: 1.4550... Val Loss: 1.4623\n",
            "Epoch: 9/20... Step: 1220... Loss: 1.4558... Val Loss: 1.4622\n",
            "Epoch: 9/20... Step: 1230... Loss: 1.4336... Val Loss: 1.4612\n",
            "Epoch: 9/20... Step: 1240... Loss: 1.4401... Val Loss: 1.4540\n",
            "Epoch: 9/20... Step: 1250... Loss: 1.4513... Val Loss: 1.4543\n",
            "Epoch: 10/20... Step: 1260... Loss: 1.4651... Val Loss: 1.4550\n",
            "Epoch: 10/20... Step: 1270... Loss: 1.4459... Val Loss: 1.4528\n",
            "Epoch: 10/20... Step: 1280... Loss: 1.4645... Val Loss: 1.4427\n",
            "Epoch: 10/20... Step: 1290... Loss: 1.4495... Val Loss: 1.4455\n",
            "Epoch: 10/20... Step: 1300... Loss: 1.4283... Val Loss: 1.4416\n",
            "Epoch: 10/20... Step: 1310... Loss: 1.4395... Val Loss: 1.4386\n",
            "Epoch: 10/20... Step: 1320... Loss: 1.4135... Val Loss: 1.4389\n",
            "Epoch: 10/20... Step: 1330... Loss: 1.4200... Val Loss: 1.4362\n",
            "Epoch: 10/20... Step: 1340... Loss: 1.4050... Val Loss: 1.4308\n",
            "Epoch: 10/20... Step: 1350... Loss: 1.3952... Val Loss: 1.4336\n",
            "Epoch: 10/20... Step: 1360... Loss: 1.4049... Val Loss: 1.4326\n",
            "Epoch: 10/20... Step: 1370... Loss: 1.3943... Val Loss: 1.4310\n",
            "Epoch: 10/20... Step: 1380... Loss: 1.4307... Val Loss: 1.4238\n",
            "Epoch: 10/20... Step: 1390... Loss: 1.4362... Val Loss: 1.4239\n",
            "Epoch: 11/20... Step: 1400... Loss: 1.4424... Val Loss: 1.4254\n",
            "Epoch: 11/20... Step: 1410... Loss: 1.4533... Val Loss: 1.4207\n",
            "Epoch: 11/20... Step: 1420... Loss: 1.4414... Val Loss: 1.4170\n",
            "Epoch: 11/20... Step: 1430... Loss: 1.4044... Val Loss: 1.4178\n",
            "Epoch: 11/20... Step: 1440... Loss: 1.4291... Val Loss: 1.4138\n",
            "Epoch: 11/20... Step: 1450... Loss: 1.3690... Val Loss: 1.4174\n",
            "Epoch: 11/20... Step: 1460... Loss: 1.3842... Val Loss: 1.4163\n",
            "Epoch: 11/20... Step: 1470... Loss: 1.3806... Val Loss: 1.4152\n",
            "Epoch: 11/20... Step: 1480... Loss: 1.4000... Val Loss: 1.4093\n",
            "Epoch: 11/20... Step: 1490... Loss: 1.3909... Val Loss: 1.4073\n",
            "Epoch: 11/20... Step: 1500... Loss: 1.3726... Val Loss: 1.4087\n",
            "Epoch: 11/20... Step: 1510... Loss: 1.3520... Val Loss: 1.4102\n",
            "Epoch: 11/20... Step: 1520... Loss: 1.3907... Val Loss: 1.4032\n",
            "Epoch: 12/20... Step: 1530... Loss: 1.4534... Val Loss: 1.4021\n",
            "Epoch: 12/20... Step: 1540... Loss: 1.4041... Val Loss: 1.4022\n",
            "Epoch: 12/20... Step: 1550... Loss: 1.3990... Val Loss: 1.3981\n",
            "Epoch: 12/20... Step: 1560... Loss: 1.4054... Val Loss: 1.3967\n",
            "Epoch: 12/20... Step: 1570... Loss: 1.3614... Val Loss: 1.3988\n",
            "Epoch: 12/20... Step: 1580... Loss: 1.3443... Val Loss: 1.3971\n",
            "Epoch: 12/20... Step: 1590... Loss: 1.3351... Val Loss: 1.3932\n",
            "Epoch: 12/20... Step: 1600... Loss: 1.3641... Val Loss: 1.3946\n",
            "Epoch: 12/20... Step: 1610... Loss: 1.3493... Val Loss: 1.3995\n",
            "Epoch: 12/20... Step: 1620... Loss: 1.3479... Val Loss: 1.3911\n",
            "Epoch: 12/20... Step: 1630... Loss: 1.3711... Val Loss: 1.3858\n",
            "Epoch: 12/20... Step: 1640... Loss: 1.3458... Val Loss: 1.3869\n",
            "Epoch: 12/20... Step: 1650... Loss: 1.3321... Val Loss: 1.3841\n",
            "Epoch: 12/20... Step: 1660... Loss: 1.3816... Val Loss: 1.3812\n",
            "Epoch: 13/20... Step: 1670... Loss: 1.3545... Val Loss: 1.3837\n",
            "Epoch: 13/20... Step: 1680... Loss: 1.3622... Val Loss: 1.3814\n",
            "Epoch: 13/20... Step: 1690... Loss: 1.3469... Val Loss: 1.3760\n",
            "Epoch: 13/20... Step: 1700... Loss: 1.3417... Val Loss: 1.3762\n",
            "Epoch: 13/20... Step: 1710... Loss: 1.3266... Val Loss: 1.3784\n",
            "Epoch: 13/20... Step: 1720... Loss: 1.3266... Val Loss: 1.3779\n",
            "Epoch: 13/20... Step: 1730... Loss: 1.3752... Val Loss: 1.3747\n",
            "Epoch: 13/20... Step: 1740... Loss: 1.3408... Val Loss: 1.3764\n",
            "Epoch: 13/20... Step: 1750... Loss: 1.3037... Val Loss: 1.3790\n",
            "Epoch: 13/20... Step: 1760... Loss: 1.3401... Val Loss: 1.3727\n",
            "Epoch: 13/20... Step: 1770... Loss: 1.3518... Val Loss: 1.3711\n",
            "Epoch: 13/20... Step: 1780... Loss: 1.3277... Val Loss: 1.3734\n",
            "Epoch: 13/20... Step: 1790... Loss: 1.3154... Val Loss: 1.3669\n",
            "Epoch: 13/20... Step: 1800... Loss: 1.3407... Val Loss: 1.3667\n",
            "Epoch: 14/20... Step: 1810... Loss: 1.3399... Val Loss: 1.3683\n",
            "Epoch: 14/20... Step: 1820... Loss: 1.3199... Val Loss: 1.3619\n",
            "Epoch: 14/20... Step: 1830... Loss: 1.3507... Val Loss: 1.3680\n",
            "Epoch: 14/20... Step: 1840... Loss: 1.2986... Val Loss: 1.3628\n",
            "Epoch: 14/20... Step: 1850... Loss: 1.2819... Val Loss: 1.3619\n",
            "Epoch: 14/20... Step: 1860... Loss: 1.3398... Val Loss: 1.3612\n",
            "Epoch: 14/20... Step: 1870... Loss: 1.3373... Val Loss: 1.3572\n",
            "Epoch: 14/20... Step: 1880... Loss: 1.3279... Val Loss: 1.3602\n",
            "Epoch: 14/20... Step: 1890... Loss: 1.3508... Val Loss: 1.3632\n",
            "Epoch: 14/20... Step: 1900... Loss: 1.3355... Val Loss: 1.3595\n",
            "Epoch: 14/20... Step: 1910... Loss: 1.3247... Val Loss: 1.3594\n",
            "Epoch: 14/20... Step: 1920... Loss: 1.3227... Val Loss: 1.3549\n",
            "Epoch: 14/20... Step: 1930... Loss: 1.2857... Val Loss: 1.3505\n",
            "Epoch: 14/20... Step: 1940... Loss: 1.3504... Val Loss: 1.3511\n",
            "Epoch: 15/20... Step: 1950... Loss: 1.3161... Val Loss: 1.3552\n",
            "Epoch: 15/20... Step: 1960... Loss: 1.3124... Val Loss: 1.3520\n",
            "Epoch: 15/20... Step: 1970... Loss: 1.3087... Val Loss: 1.3504\n",
            "Epoch: 15/20... Step: 1980... Loss: 1.2958... Val Loss: 1.3489\n",
            "Epoch: 15/20... Step: 1990... Loss: 1.2991... Val Loss: 1.3477\n",
            "Epoch: 15/20... Step: 2000... Loss: 1.2839... Val Loss: 1.3474\n",
            "Epoch: 15/20... Step: 2010... Loss: 1.3086... Val Loss: 1.3436\n",
            "Epoch: 15/20... Step: 2020... Loss: 1.3166... Val Loss: 1.3500\n",
            "Epoch: 15/20... Step: 2030... Loss: 1.2911... Val Loss: 1.3534\n",
            "Epoch: 15/20... Step: 2040... Loss: 1.3113... Val Loss: 1.3468\n",
            "Epoch: 15/20... Step: 2050... Loss: 1.2968... Val Loss: 1.3447\n",
            "Epoch: 15/20... Step: 2060... Loss: 1.3122... Val Loss: 1.3455\n",
            "Epoch: 15/20... Step: 2070... Loss: 1.3087... Val Loss: 1.3403\n",
            "Epoch: 15/20... Step: 2080... Loss: 1.3046... Val Loss: 1.3401\n",
            "Epoch: 16/20... Step: 2090... Loss: 1.3119... Val Loss: 1.3454\n",
            "Epoch: 16/20... Step: 2100... Loss: 1.2878... Val Loss: 1.3422\n",
            "Epoch: 16/20... Step: 2110... Loss: 1.2812... Val Loss: 1.3400\n",
            "Epoch: 16/20... Step: 2120... Loss: 1.2923... Val Loss: 1.3372\n",
            "Epoch: 16/20... Step: 2130... Loss: 1.2696... Val Loss: 1.3371\n",
            "Epoch: 16/20... Step: 2140... Loss: 1.2801... Val Loss: 1.3331\n",
            "Epoch: 16/20... Step: 2150... Loss: 1.3093... Val Loss: 1.3331\n",
            "Epoch: 16/20... Step: 2160... Loss: 1.2802... Val Loss: 1.3351\n",
            "Epoch: 16/20... Step: 2170... Loss: 1.2801... Val Loss: 1.3392\n",
            "Epoch: 16/20... Step: 2180... Loss: 1.2766... Val Loss: 1.3363\n",
            "Epoch: 16/20... Step: 2190... Loss: 1.2953... Val Loss: 1.3366\n",
            "Epoch: 16/20... Step: 2200... Loss: 1.2685... Val Loss: 1.3333\n",
            "Epoch: 16/20... Step: 2210... Loss: 1.2418... Val Loss: 1.3313\n",
            "Epoch: 16/20... Step: 2220... Loss: 1.2895... Val Loss: 1.3312\n",
            "Epoch: 17/20... Step: 2230... Loss: 1.2714... Val Loss: 1.3309\n",
            "Epoch: 17/20... Step: 2240... Loss: 1.2836... Val Loss: 1.3296\n",
            "Epoch: 17/20... Step: 2250... Loss: 1.2626... Val Loss: 1.3291\n",
            "Epoch: 17/20... Step: 2260... Loss: 1.2669... Val Loss: 1.3294\n",
            "Epoch: 17/20... Step: 2270... Loss: 1.2798... Val Loss: 1.3277\n",
            "Epoch: 17/20... Step: 2280... Loss: 1.2831... Val Loss: 1.3232\n",
            "Epoch: 17/20... Step: 2290... Loss: 1.2789... Val Loss: 1.3257\n",
            "Epoch: 17/20... Step: 2300... Loss: 1.2423... Val Loss: 1.3318\n",
            "Epoch: 17/20... Step: 2310... Loss: 1.2680... Val Loss: 1.3295\n",
            "Epoch: 17/20... Step: 2320... Loss: 1.2609... Val Loss: 1.3240\n",
            "Epoch: 17/20... Step: 2330... Loss: 1.2596... Val Loss: 1.3269\n",
            "Epoch: 17/20... Step: 2340... Loss: 1.2818... Val Loss: 1.3239\n",
            "Epoch: 17/20... Step: 2350... Loss: 1.2869... Val Loss: 1.3228\n",
            "Epoch: 17/20... Step: 2360... Loss: 1.2836... Val Loss: 1.3245\n",
            "Epoch: 18/20... Step: 2370... Loss: 1.2550... Val Loss: 1.3243\n",
            "Epoch: 18/20... Step: 2380... Loss: 1.2481... Val Loss: 1.3199\n",
            "Epoch: 18/20... Step: 2390... Loss: 1.2586... Val Loss: 1.3182\n",
            "Epoch: 18/20... Step: 2400... Loss: 1.2763... Val Loss: 1.3160\n",
            "Epoch: 18/20... Step: 2410... Loss: 1.2715... Val Loss: 1.3192\n",
            "Epoch: 18/20... Step: 2420... Loss: 1.2585... Val Loss: 1.3149\n",
            "Epoch: 18/20... Step: 2430... Loss: 1.2688... Val Loss: 1.3166\n",
            "Epoch: 18/20... Step: 2440... Loss: 1.2570... Val Loss: 1.3214\n",
            "Epoch: 18/20... Step: 2450... Loss: 1.2427... Val Loss: 1.3213\n",
            "Epoch: 18/20... Step: 2460... Loss: 1.2529... Val Loss: 1.3177\n",
            "Epoch: 18/20... Step: 2470... Loss: 1.2517... Val Loss: 1.3182\n",
            "Epoch: 18/20... Step: 2480... Loss: 1.2489... Val Loss: 1.3147\n",
            "Epoch: 18/20... Step: 2490... Loss: 1.2415... Val Loss: 1.3180\n",
            "Epoch: 18/20... Step: 2500... Loss: 1.2474... Val Loss: 1.3149\n",
            "Epoch: 19/20... Step: 2510... Loss: 1.2535... Val Loss: 1.3135\n",
            "Epoch: 19/20... Step: 2520... Loss: 1.2628... Val Loss: 1.3138\n",
            "Epoch: 19/20... Step: 2530... Loss: 1.2610... Val Loss: 1.3125\n",
            "Epoch: 19/20... Step: 2540... Loss: 1.2725... Val Loss: 1.3099\n",
            "Epoch: 19/20... Step: 2550... Loss: 1.2363... Val Loss: 1.3125\n",
            "Epoch: 19/20... Step: 2560... Loss: 1.2456... Val Loss: 1.3090\n",
            "Epoch: 19/20... Step: 2570... Loss: 1.2454... Val Loss: 1.3063\n",
            "Epoch: 19/20... Step: 2580... Loss: 1.2687... Val Loss: 1.3127\n",
            "Epoch: 19/20... Step: 2590... Loss: 1.2336... Val Loss: 1.3118\n",
            "Epoch: 19/20... Step: 2600... Loss: 1.2368... Val Loss: 1.3114\n",
            "Epoch: 19/20... Step: 2610... Loss: 1.2454... Val Loss: 1.3118\n",
            "Epoch: 19/20... Step: 2620... Loss: 1.2282... Val Loss: 1.3072\n",
            "Epoch: 19/20... Step: 2630... Loss: 1.2377... Val Loss: 1.3053\n",
            "Epoch: 19/20... Step: 2640... Loss: 1.2525... Val Loss: 1.3038\n",
            "Epoch: 20/20... Step: 2650... Loss: 1.2515... Val Loss: 1.3099\n",
            "Epoch: 20/20... Step: 2660... Loss: 1.2478... Val Loss: 1.3079\n",
            "Epoch: 20/20... Step: 2670... Loss: 1.2588... Val Loss: 1.3062\n",
            "Epoch: 20/20... Step: 2680... Loss: 1.2571... Val Loss: 1.3050\n",
            "Epoch: 20/20... Step: 2690... Loss: 1.2419... Val Loss: 1.3073\n",
            "Epoch: 20/20... Step: 2700... Loss: 1.2512... Val Loss: 1.3071\n",
            "Epoch: 20/20... Step: 2710... Loss: 1.2171... Val Loss: 1.3077\n",
            "Epoch: 20/20... Step: 2720... Loss: 1.2210... Val Loss: 1.3070\n",
            "Epoch: 20/20... Step: 2730... Loss: 1.2150... Val Loss: 1.3066\n",
            "Epoch: 20/20... Step: 2740... Loss: 1.2089... Val Loss: 1.3039\n",
            "Epoch: 20/20... Step: 2750... Loss: 1.2212... Val Loss: 1.3064\n",
            "Epoch: 20/20... Step: 2760... Loss: 1.2078... Val Loss: 1.3052\n",
            "Epoch: 20/20... Step: 2770... Loss: 1.2465... Val Loss: 1.3008\n",
            "Epoch: 20/20... Step: 2780... Loss: 1.2773... Val Loss: 1.2999\n"
          ],
          "name": "stdout"
        }
      ]
    },
    {
      "metadata": {
        "id": "9sImD6y-wd0X",
        "colab_type": "text"
      },
      "cell_type": "markdown",
      "source": [
        "---\n",
        "## Making Predictions\n",
        "\n",
        "Now that the model is trained, we'll want to sample from it and make predictions about next characters! To sample, we pass in a character and have the network predict the next character. Then we take that character, pass it back in, and get another predicted character. Just keep doing this and you'll generate a bunch of text!\n",
        "\n",
        "### A note on the `predict`  function\n",
        "\n",
        "The output of our RNN is from a fully-connected layer and it outputs a **distribution of next-character scores**.\n",
        "\n",
        "> To actually get the next character, we apply a softmax function, which gives us a *probability* distribution that we can then sample to predict the next character.\n",
        "\n",
        "### Top K sampling\n",
        "\n",
        "Our predictions come from a categorical probability distribution over all the possible characters. We can make the sample text and make it more reasonable to handle (with less variables) by only considering some $K$ most probable characters. This will prevent the network from giving us completely absurd characters while allowing it to introduce some noise and randomness into the sampled text. Read more about [topk, here](https://pytorch.org/docs/stable/torch.html#torch.topk).\n"
      ]
    },
    {
      "metadata": {
        "id": "kRHAC47muzWX",
        "colab_type": "code",
        "colab": {}
      },
      "cell_type": "code",
      "source": [
        "def predict(net, char, h=None, top_k=None):\n",
        "  \n",
        "    ''' Given a character, predict the next character.\n",
        "    Returns the predicted character and the hidden state.\n",
        "    '''\n",
        "        \n",
        "    # tensor inputs\n",
        "    x = np.array([[net.char2int[char]]])\n",
        "    x = one_hot_encode(x, len(net.chars))\n",
        "    inputs = torch.from_numpy(x)\n",
        "        \n",
        "    if(train_on_gpu):\n",
        "      inputs = inputs.cuda()\n",
        "        \n",
        "      # detach hidden state from history\n",
        "      h = tuple([each.data for each in h])\n",
        "      # get the output of the model\n",
        "      out, h = net(inputs, h)\n",
        "\n",
        "      # get the character probabilities\n",
        "      p = F.softmax(out, dim=1).data\n",
        "      if(train_on_gpu):\n",
        "        \n",
        "        p = p.cpu() # move to cpu\n",
        "        \n",
        "       # get top characters\n",
        "      if top_k is None:\n",
        "        top_ch = np.arange(len(net.chars))\n",
        "      else:\n",
        "        p, top_ch = p.topk(top_k)\n",
        "        top_ch = top_ch.numpy().squeeze()\n",
        "        \n",
        "      # select the likely next character with some element of randomness\n",
        "      p = p.numpy().squeeze()\n",
        "      char = np.random.choice(top_ch, p=p/p.sum())\n",
        "        \n",
        "      # return the encoded value of the predicted char and the hidden state\n",
        "      return net.int2char[char], h"
      ],
      "execution_count": 0,
      "outputs": []
    },
    {
      "metadata": {
        "id": "sJQC3konxBz4",
        "colab_type": "text"
      },
      "cell_type": "markdown",
      "source": [
        "### Priming and generating text \n",
        "\n",
        "Typically you'll want to prime the network so you can build up a hidden state. Otherwise the network will start out generating characters at random. In general the first bunch of characters will be a little rough since it hasn't built up a long history of characters to predict from."
      ]
    },
    {
      "metadata": {
        "id": "CEEy2Hf4w8RL",
        "colab_type": "code",
        "colab": {}
      },
      "cell_type": "code",
      "source": [
        "def sample(net, size, prime='The', top_k=None):\n",
        "        \n",
        "    if(train_on_gpu):\n",
        "        net.cuda()\n",
        "    else:\n",
        "        net.cpu()\n",
        "    \n",
        "    net.eval() # eval mode\n",
        "    \n",
        "    # First off, run through the prime characters\n",
        "    chars = [ch for ch in prime]\n",
        "    h = net.init_hidden(1)\n",
        "    for ch in prime:\n",
        "      char, h = predict(net, ch, h, top_k=top_k)\n",
        "\n",
        "    chars.append(char)\n",
        "    \n",
        "    # Now pass in the previous character and get a new one\n",
        "    for ii in range(size):\n",
        "      char, h = predict(net, chars[-1], h, top_k=top_k)\n",
        "      chars.append(char)\n",
        "\n",
        "    return ''.join(chars)"
      ],
      "execution_count": 0,
      "outputs": []
    },
    {
      "metadata": {
        "id": "OA31aHikxWsR",
        "colab_type": "code",
        "colab": {
          "base_uri": "https://localhost:8080/",
          "height": 394
        },
        "outputId": "23f23a1d-4042-49d5-f830-64f24a446e22"
      },
      "cell_type": "code",
      "source": [
        "print(sample(net, 1000, prime='Anna', top_k=5))"
      ],
      "execution_count": 86,
      "outputs": [
        {
          "output_type": "stream",
          "text": [
            "Anna\n",
            "had never tented, she would be detailing; and he feeling that he\n",
            "could not said all to the face with her, and as\n",
            "she was so as intense that the connections were sitting about his silence.\n",
            "\n",
            "\"I don't know you that\n",
            "he could\n",
            "so all more all silent too,\"\n",
            "said Stepan Arkadyevitch. \"You're not seeing her,\n",
            "I am to be all to her above the mension of their mind that the chuedress at high, what is\n",
            "a cantily to go on an end a grass of the man, the thange is\n",
            "never been a supprossing official assument as\n",
            "the\n",
            "same it. But it's out of the minute. It seens a master, all her simple-say of\n",
            "the meetings.\"\n",
            "\n",
            "\"I'd not\n",
            "telling the sole of her soul. Tuntative in a past of the carriage. Tell the crack, and this was to be all and disappreach that they murt cant to be stronger, because\n",
            "here. I have already discancied it, and I won't be at the string which has to spend the family, and the one thing it is stracting\n",
            "in her still\n",
            "more attitude. With the from this world. This shrewd trues with you. He's no sort of tel\n"
          ],
          "name": "stdout"
        }
      ]
    },
    {
      "metadata": {
        "id": "ejDuhAfDy_7B",
        "colab_type": "code",
        "colab": {}
      },
      "cell_type": "code",
      "source": [
        ""
      ],
      "execution_count": 0,
      "outputs": []
    }
  ]
}